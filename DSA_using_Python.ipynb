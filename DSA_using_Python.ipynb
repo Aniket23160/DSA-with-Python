{
  "nbformat": 4,
  "nbformat_minor": 0,
  "metadata": {
    "colab": {
      "provenance": []
    },
    "kernelspec": {
      "name": "python3",
      "display_name": "Python 3"
    },
    "language_info": {
      "name": "python"
    }
  },
  "cells": [
    {
      "cell_type": "code",
      "execution_count": null,
      "metadata": {
        "id": "HIqwJqQr-yCA"
      },
      "outputs": [],
      "source": [
        "def kadane(array):\n",
        "    sum=array[0]\n",
        "    maxi=sum\n",
        "    for i in range(1,len(array)):\n",
        "        sum=sum+array[i]\n",
        "        maxi=max(maxi,sum)\n",
        "        if sum<0:\n",
        "            sum=0\n",
        "    return maxi\n"
      ]
    },
    {
      "cell_type": "code",
      "source": [
        "array= [-2, -3, 4, -1, -2, 1, 5, -3]\n",
        "\n",
        "print(kadane(array))"
      ],
      "metadata": {
        "colab": {
          "base_uri": "https://localhost:8080/"
        },
        "id": "s8Wfu8x9BFRz",
        "outputId": "f6d54653-b3af-4e8f-98ac-792850aa8e76"
      },
      "execution_count": null,
      "outputs": [
        {
          "output_type": "stream",
          "name": "stdout",
          "text": [
            "7\n"
          ]
        }
      ]
    },
    {
      "cell_type": "markdown",
      "source": [
        "## Recursion (Basic GFG)"
      ],
      "metadata": {
        "id": "JFPd4zog3Ya7"
      }
    },
    {
      "cell_type": "code",
      "source": [
        "def fun1():\n",
        "    print(\"fun1() called\")\n",
        "def fun2():\n",
        "    print(\"Before fun1()\")\n",
        "    fun1()\n",
        "    print(\"After fun1()\")\n",
        "\n",
        "fun2()\n"
      ],
      "metadata": {
        "colab": {
          "base_uri": "https://localhost:8080/"
        },
        "id": "TDvFxtcvigcQ",
        "outputId": "87b60973-e664-41d0-f353-aa8430cd8ba2"
      },
      "execution_count": null,
      "outputs": [
        {
          "output_type": "stream",
          "name": "stdout",
          "text": [
            "Before fun1()\n",
            "fun1() called\n",
            "After fun1()\n"
          ]
        }
      ]
    },
    {
      "cell_type": "code",
      "source": [
        "def fun(n):\n",
        "    if n==0:\n",
        "        return\n",
        "    print(n)\n",
        "    fun(n-1)\n",
        "    print(n)\n",
        "\n",
        "fun(3)"
      ],
      "metadata": {
        "colab": {
          "base_uri": "https://localhost:8080/"
        },
        "id": "_UtMSRdsj_lP",
        "outputId": "5b064be3-28a5-4b6e-fa11-442ab5038a8b"
      },
      "execution_count": null,
      "outputs": [
        {
          "output_type": "stream",
          "name": "stdout",
          "text": [
            "3\n",
            "2\n",
            "1\n",
            "1\n",
            "2\n",
            "3\n"
          ]
        }
      ]
    },
    {
      "cell_type": "code",
      "source": [
        "def fun(n):\n",
        "    if (n==0):\n",
        "        return\n",
        "    fun(n-1)\n",
        "    print (n)\n",
        "    return\n",
        "\n",
        "fun(4)"
      ],
      "metadata": {
        "colab": {
          "base_uri": "https://localhost:8080/"
        },
        "id": "RuSXkp98n1ym",
        "outputId": "7aaca32c-fb18-44a8-a682-526a8285958e"
      },
      "execution_count": null,
      "outputs": [
        {
          "output_type": "stream",
          "name": "stdout",
          "text": [
            "1\n",
            "2\n",
            "3\n",
            "4\n"
          ]
        }
      ]
    },
    {
      "cell_type": "code",
      "source": [
        "def fun(n):\n",
        "    if (n==0):\n",
        "        return\n",
        "    print (n)\n",
        "    fun(n-1)\n",
        "    return\n",
        "\n",
        "fun(4)"
      ],
      "metadata": {
        "colab": {
          "base_uri": "https://localhost:8080/"
        },
        "id": "xcf4f2tloksw",
        "outputId": "b0eb5f0e-461b-4649-e19e-45c36eddcd76"
      },
      "execution_count": null,
      "outputs": [
        {
          "output_type": "stream",
          "name": "stdout",
          "text": [
            "4\n",
            "3\n",
            "2\n",
            "1\n"
          ]
        }
      ]
    },
    {
      "cell_type": "code",
      "source": [
        "def fun(n):\n",
        "    if (n<10):\n",
        "        return n\n",
        "    else:\n",
        "        return n%10+fun(n//10)\n",
        "\n",
        "fun(253)\n"
      ],
      "metadata": {
        "colab": {
          "base_uri": "https://localhost:8080/"
        },
        "id": "vOEkhh4eoxIC",
        "outputId": "ac7c16a5-d4a0-4fed-f69a-030e8d193488"
      },
      "execution_count": null,
      "outputs": [
        {
          "output_type": "execute_result",
          "data": {
            "text/plain": [
              "10"
            ]
          },
          "metadata": {},
          "execution_count": 11
        }
      ]
    },
    {
      "cell_type": "code",
      "source": [
        "def fun(s):\n",
        "    if len(s)==1 or len(s)==0:\n",
        "        return True\n",
        "    elif s[0]!=s[-1]:\n",
        "        return False\n",
        "    else:\n",
        "        return fun(s[1:len(s)-1])"
      ],
      "metadata": {
        "id": "ld3j0vYmpcy6"
      },
      "execution_count": null,
      "outputs": []
    },
    {
      "cell_type": "code",
      "source": [
        "fun(\"anina\")"
      ],
      "metadata": {
        "colab": {
          "base_uri": "https://localhost:8080/"
        },
        "id": "BAQgw5bgqw2N",
        "outputId": "34a27d0a-b2fd-4ebd-8f00-9db9bf36fcbc"
      },
      "execution_count": null,
      "outputs": [
        {
          "output_type": "execute_result",
          "data": {
            "text/plain": [
              "True"
            ]
          },
          "metadata": {},
          "execution_count": 13
        }
      ]
    },
    {
      "cell_type": "code",
      "source": [
        "def swapme(a,b):\n",
        "    temp=a\n",
        "    a=b\n",
        "    b=temp\n",
        "    return\n",
        "\n",
        "a=4\n",
        "b=6\n",
        "swapme(a,b) #will not swap because python is swap by value\n",
        "print(a,b)\n"
      ],
      "metadata": {
        "colab": {
          "base_uri": "https://localhost:8080/"
        },
        "id": "6XTjrXr2u-xk",
        "outputId": "c16ee9ed-10d5-4634-9b2c-ed10ebe57a64"
      },
      "execution_count": null,
      "outputs": [
        {
          "output_type": "stream",
          "name": "stdout",
          "text": [
            "4 6\n"
          ]
        }
      ]
    },
    {
      "cell_type": "markdown",
      "source": [
        "## Recursion (AdvGFG)"
      ],
      "metadata": {
        "id": "lf9ORBpX3gys"
      }
    },
    {
      "cell_type": "code",
      "source": [
        "def ropeCutting(n,a,b,c):\n",
        "    if (n==0):\n",
        "        return 0\n",
        "    elif n<=-1:\n",
        "        return -1\n",
        "\n",
        "    else:\n",
        "        # return 1+max(ropeCutting(n-a,a,b,c),max(ropeCutting(n-a,a,b,c),ropeCutting(n-b,a,b,c)))\n",
        "        res=max(ropeCutting(n-a,a,b,c),max(ropeCutting(n-a,a,b,c),ropeCutting(n-b,a,b,c)))\n",
        "        if res==-1:\n",
        "            return -1\n",
        "        return res+1"
      ],
      "metadata": {
        "id": "dLxBKOi2qzcp"
      },
      "execution_count": null,
      "outputs": []
    },
    {
      "cell_type": "markdown",
      "source": [
        "It is important to not use the commented line because it will not check all the intermediate cases for -1 value which should be checked before finally reporting answer. A corner case is ropeCutting(9,2,2,2) which should return -1 but will return 2 for the commented code."
      ],
      "metadata": {
        "id": "Y1G4JAFn21sQ"
      }
    },
    {
      "cell_type": "code",
      "source": [
        "ropeCutting(9,2,2,2)"
      ],
      "metadata": {
        "colab": {
          "base_uri": "https://localhost:8080/"
        },
        "id": "I3TxLKdxyU6y",
        "outputId": "4933a042-3c2c-4f96-dca5-7d24d85af04d"
      },
      "execution_count": null,
      "outputs": [
        {
          "output_type": "execute_result",
          "data": {
            "text/plain": [
              "-1"
            ]
          },
          "metadata": {},
          "execution_count": 17
        }
      ]
    },
    {
      "cell_type": "code",
      "source": [
        "def printSubset(Input,Output):\n",
        "    # ans=[]\n",
        "    if len(Input)==0:\n",
        "        print(Output)\n",
        "        return\n",
        "    else:\n",
        "        printSubset(Input[1:],Output+Input[0])\n",
        "        printSubset(Input[1:],Output)\n",
        "\n"
      ],
      "metadata": {
        "id": "zJrJ1vHeyZpR"
      },
      "execution_count": null,
      "outputs": []
    },
    {
      "cell_type": "code",
      "source": [
        "printSubset(\"ABC\",\"\")"
      ],
      "metadata": {
        "colab": {
          "base_uri": "https://localhost:8080/"
        },
        "id": "aiUx82ju45zR",
        "outputId": "e216085b-1388-4dea-8b45-8c75eee66750"
      },
      "execution_count": null,
      "outputs": [
        {
          "output_type": "stream",
          "name": "stdout",
          "text": [
            "ABC\n",
            "AB\n",
            "AC\n",
            "A\n",
            "BC\n",
            "B\n",
            "C\n",
            "\n"
          ]
        }
      ]
    },
    {
      "cell_type": "code",
      "source": [
        "# Sort Using Recursion\n",
        "def sort(arr,n):\n",
        "     if n<=1:\n",
        "         return\n",
        "     else:\n",
        "         sort(arr,n-1)\n",
        "         i=0\n",
        "         while(arr[i]<arr[n-1]):\n",
        "             i+=1\n",
        "         num=arr[n-1]\n",
        "         while(i<n):\n",
        "             t=arr[i]\n",
        "             arr[i]=num\n",
        "             num=t\n",
        "             i+=1\n",
        "         return\n"
      ],
      "metadata": {
        "id": "ziPhKTMf490i"
      },
      "execution_count": null,
      "outputs": []
    },
    {
      "cell_type": "code",
      "source": [
        "arr=[2,5,1,6]\n",
        "sort(arr,4)"
      ],
      "metadata": {
        "id": "4qy3QzdAQIt8"
      },
      "execution_count": null,
      "outputs": []
    },
    {
      "cell_type": "code",
      "source": [
        "print(arr)"
      ],
      "metadata": {
        "colab": {
          "base_uri": "https://localhost:8080/"
        },
        "id": "jlNiCC2DQjef",
        "outputId": "3c5f4bcb-2d4e-4501-c378-31ec3db87720"
      },
      "execution_count": null,
      "outputs": [
        {
          "output_type": "stream",
          "name": "stdout",
          "text": [
            "[1, 2, 5, 6]\n"
          ]
        }
      ]
    },
    {
      "cell_type": "code",
      "source": [
        "def sum(arr):\n",
        "    ans=0\n",
        "    for i in arr:\n",
        "        ans=ans+i\n",
        "    print(ans)\n",
        "    return ans\n",
        "\n",
        "def subset_sum(input,output,s):\n",
        "    if len(input)==0:\n",
        "        if sum(output)==s:\n",
        "            print(output)\n",
        "            return 1\n",
        "        else:\n",
        "            return 0\n",
        "    else:\n",
        "        t=input.pop()\n",
        "        output1=output\n",
        "        output2=output\n",
        "        print(\"o1\",output1)\n",
        "        output1.append(t)\n",
        "        print(\"o\",output)\n",
        "        print(\"o1\",output1)\n",
        "        print(\"o2\",output2)\n",
        "        return subset_sum(input,output1,s)+subset_sum(input,output2,s)\n"
      ],
      "metadata": {
        "id": "iNw8Vn9_QxtS"
      },
      "execution_count": null,
      "outputs": []
    },
    {
      "cell_type": "code",
      "source": [
        "arr=[2,3,5,7,1]\n",
        "arr2=[]\n",
        "# arr2.append(9)\n",
        "# print(arr.pop)\n",
        "# print(arr2)\n",
        "print(subset_sum(arr,arr2,9))\n"
      ],
      "metadata": {
        "colab": {
          "base_uri": "https://localhost:8080/"
        },
        "id": "MXdWUU9On2b9",
        "outputId": "e642ba92-c1c6-4140-a145-4f8902e33abf"
      },
      "execution_count": null,
      "outputs": [
        {
          "output_type": "stream",
          "name": "stdout",
          "text": [
            "o1 []\n",
            "o [1]\n",
            "o1 [1]\n",
            "o2 [1]\n",
            "o1 [1]\n",
            "o [1, 7]\n",
            "o1 [1, 7]\n",
            "o2 [1, 7]\n",
            "o1 [1, 7]\n",
            "o [1, 7, 5]\n",
            "o1 [1, 7, 5]\n",
            "o2 [1, 7, 5]\n",
            "o1 [1, 7, 5]\n",
            "o [1, 7, 5, 3]\n",
            "o1 [1, 7, 5, 3]\n",
            "o2 [1, 7, 5, 3]\n",
            "o1 [1, 7, 5, 3]\n",
            "o [1, 7, 5, 3, 2]\n",
            "o1 [1, 7, 5, 3, 2]\n",
            "o2 [1, 7, 5, 3, 2]\n",
            "18\n",
            "18\n",
            "18\n",
            "18\n",
            "18\n",
            "18\n",
            "0\n"
          ]
        }
      ]
    },
    {
      "cell_type": "code",
      "source": [
        "def reverse(s):\n",
        "    ans=\"\"\n",
        "    for i in s:\n",
        "        if i==\"0\":\n",
        "            ans=ans+\"1\"\n",
        "        else:\n",
        "            ans=ans+\"0\"\n",
        "    return ans\n",
        "\n",
        "def kthsymbol(n):\n",
        "    if n==1:\n",
        "        return \"0\"\n",
        "    else:\n",
        "        return kthsymbol(n-1)+reverse(kthsymbol(n-1))"
      ],
      "metadata": {
        "id": "-0bsuulpoVGg"
      },
      "execution_count": null,
      "outputs": []
    },
    {
      "cell_type": "code",
      "source": [
        "print(kthsymbol(2))"
      ],
      "metadata": {
        "colab": {
          "base_uri": "https://localhost:8080/"
        },
        "id": "Wxc5wMb_uVP9",
        "outputId": "bbc36f5d-12a8-40c4-a5e4-4e82c372d475"
      },
      "execution_count": null,
      "outputs": [
        {
          "output_type": "stream",
          "name": "stdout",
          "text": [
            "01\n"
          ]
        }
      ]
    },
    {
      "cell_type": "code",
      "source": [
        "def space_permut(input,output):\n",
        "    if input==\"\":\n",
        "        print(output)\n",
        "        return\n",
        "    else:\n",
        "        space_permut(input[1:],output+input[0])\n",
        "        space_permut(input[1:],output+\" \"+input[0])\n"
      ],
      "metadata": {
        "id": "IDmJKKd-uZLY"
      },
      "execution_count": null,
      "outputs": []
    },
    {
      "cell_type": "code",
      "source": [
        "s=\"Ani\"\n",
        "input=\"Ani\"\n",
        "output=\"A\"\n",
        "space_permut(input[1:],output)"
      ],
      "metadata": {
        "colab": {
          "base_uri": "https://localhost:8080/"
        },
        "id": "h0XlJZ3wvBL-",
        "outputId": "f12416f4-bd3e-4c9f-a5db-ad554943cb29"
      },
      "execution_count": null,
      "outputs": [
        {
          "output_type": "stream",
          "name": "stdout",
          "text": [
            "Ani\n",
            "An i\n",
            "A ni\n",
            "A n i\n"
          ]
        }
      ]
    },
    {
      "cell_type": "code",
      "source": [
        "def case_change(input,output):\n",
        "    if input==\"\":\n",
        "        print(output)\n",
        "        return\n",
        "    else:\n",
        "        case_change(input[1:],output+(input[0].upper()))\n",
        "        case_change(input[1:],output+(input[0].lower()))"
      ],
      "metadata": {
        "id": "yHIFGLol12z_"
      },
      "execution_count": null,
      "outputs": []
    },
    {
      "cell_type": "code",
      "source": [
        "s=\"Ani\"\n",
        "case_change(s,\"\")"
      ],
      "metadata": {
        "colab": {
          "base_uri": "https://localhost:8080/"
        },
        "id": "Wx38Kiyc3KrI",
        "outputId": "0061545c-3b63-4308-bb91-b93cf1a83f44"
      },
      "execution_count": null,
      "outputs": [
        {
          "output_type": "stream",
          "name": "stdout",
          "text": [
            "ANI\n",
            "ANi\n",
            "AnI\n",
            "Ani\n",
            "aNI\n",
            "aNi\n",
            "anI\n",
            "ani\n"
          ]
        }
      ]
    },
    {
      "cell_type": "code",
      "source": [
        "def case_change2(input,output):\n",
        "    if input==\"\":\n",
        "        print(output)\n",
        "        return\n",
        "    else:\n",
        "        if input[0].isalpha():\n",
        "            case_change2(input[1:],output+(input[0].upper()))\n",
        "            case_change2(input[1:],output+(input[0].lower()))\n",
        "        else:\n",
        "            case_change2(input[1:],output+input[0])"
      ],
      "metadata": {
        "id": "xz8plOhb3Tcr"
      },
      "execution_count": null,
      "outputs": []
    },
    {
      "cell_type": "code",
      "source": [
        "s=\"An2i\"\n",
        "case_change2(s,\"\")"
      ],
      "metadata": {
        "colab": {
          "base_uri": "https://localhost:8080/"
        },
        "id": "PnqRjgT94OHH",
        "outputId": "0865c3a2-58d3-4e55-aa0d-3366bb879506"
      },
      "execution_count": null,
      "outputs": [
        {
          "output_type": "stream",
          "name": "stdout",
          "text": [
            "AN2I\n",
            "AN2i\n",
            "An2I\n",
            "An2i\n",
            "aN2I\n",
            "aN2i\n",
            "an2I\n",
            "an2i\n"
          ]
        }
      ]
    },
    {
      "cell_type": "code",
      "source": [
        "def balanced_paranthesis(n,m,output):\n",
        "    # print(output)\n",
        "    if m==0 and n==0:\n",
        "        print(output)\n",
        "        return\n",
        "    elif n!=0:\n",
        "        balanced_paranthesis(n-1,m,\")\"+output)\n",
        "        # return\n",
        "    elif m>n:\n",
        "        # balanced_paranthesis(n-1,m,\"(\"+output)\n",
        "        balanced_paranthesis(n,m-1,\"(\"+output)\n",
        "        # return\n",
        "    # return"
      ],
      "metadata": {
        "id": "FxZH5DIk4aUD"
      },
      "execution_count": null,
      "outputs": []
    },
    {
      "cell_type": "code",
      "source": [
        "balanced_paranthesis(3,3,\"\")"
      ],
      "metadata": {
        "colab": {
          "base_uri": "https://localhost:8080/"
        },
        "id": "sYmcBVJ27qN5",
        "outputId": "a5124666-5ce9-4850-8f51-36ebdc576159"
      },
      "execution_count": null,
      "outputs": [
        {
          "output_type": "stream",
          "name": "stdout",
          "text": [
            "((()))\n"
          ]
        }
      ]
    },
    {
      "cell_type": "code",
      "source": [
        "def josephus_prob(arr,n,k,l):\n",
        "    if len(arr)==1:\n",
        "        return arr[0]\n",
        "    else:\n",
        "        arr_new=[]\n",
        "        arr[(l+k)%n]=-1\n",
        "        l=(l+k)%n\n",
        "        for i in range(0,len(arr)):\n",
        "            if arr[(i)]!=-1:\n",
        "                arr_new.append(arr[i])\n",
        "        return josephus_prob(arr_new,n-1,k,l)\n"
      ],
      "metadata": {
        "id": "gK8JuzvLTujI"
      },
      "execution_count": null,
      "outputs": []
    },
    {
      "cell_type": "code",
      "source": [
        "arr=[1,2,3,4,5]\n",
        "# n=5,k=3\n",
        "josephus_prob(arr,5,2,0) # k should be passed to function after reducing 1"
      ],
      "metadata": {
        "colab": {
          "base_uri": "https://localhost:8080/"
        },
        "id": "fXOo1rFWYMlN",
        "outputId": "52e7a2e1-47ef-4f86-bd76-cb59a437c218"
      },
      "execution_count": null,
      "outputs": [
        {
          "output_type": "execute_result",
          "data": {
            "text/plain": [
              "4"
            ]
          },
          "metadata": {},
          "execution_count": 34
        }
      ]
    },
    {
      "cell_type": "code",
      "source": [
        "class MyHash:\n",
        "    def __init__(self,b):\n",
        "        self.BUCKET=b\n",
        "        self.table=[[] for x in range(b)]\n",
        "    def insert(self,x):\n",
        "        i=x%self.append(x)\n",
        "        self.table[i].append(x)\n",
        "    def remove(self,x):\n",
        "        i=x%self.BUCKET\n",
        "        self.table[i].remove(x)\n",
        "    def search(self,x):\n",
        "        i=x%self.BUCKET\n",
        "        return x in self.table[i]\n"
      ],
      "metadata": {
        "id": "a0PF-FZY7xFv"
      },
      "execution_count": null,
      "outputs": []
    },
    {
      "cell_type": "code",
      "source": [
        "#DP Fib Memoization Top Down\n",
        "arr=[-1]*100\n",
        "\n",
        "def fib(n):\n",
        "    if n==1 or n==0:\n",
        "        arr[n-1]=n\n",
        "        return arr[n-1]\n",
        "    if arr[n]!=-1:\n",
        "        return arr[n]\n",
        "    else:\n",
        "        arr[n]=fib(n-1)+fib(n-2)\n",
        "        return arr[n]\n",
        "\n",
        "fib(3)"
      ],
      "metadata": {
        "colab": {
          "base_uri": "https://localhost:8080/"
        },
        "id": "-Vc74t_Ysog5",
        "outputId": "ad6e291a-a06b-46c7-cb9a-ca318fdc7c14"
      },
      "execution_count": null,
      "outputs": [
        {
          "output_type": "execute_result",
          "data": {
            "text/plain": [
              "2"
            ]
          },
          "metadata": {},
          "execution_count": 36
        }
      ]
    },
    {
      "cell_type": "code",
      "source": [
        "# Tabulation Bottom Up\n",
        "dp=[-1]*100\n",
        "def fib(n):\n",
        "    dp[0]=0\n",
        "    dp[1]=1\n",
        "    for i in range(2,n+1):\n",
        "        dp[i]=dp[i-1]+dp[i-2]\n",
        "    return dp[n]\n",
        "fib(3)"
      ],
      "metadata": {
        "colab": {
          "base_uri": "https://localhost:8080/"
        },
        "id": "tmlTYrg0s-sW",
        "outputId": "259dffa4-df5f-4810-ba7b-5c373442c709"
      },
      "execution_count": null,
      "outputs": [
        {
          "output_type": "execute_result",
          "data": {
            "text/plain": [
              "2"
            ]
          },
          "metadata": {},
          "execution_count": 37
        }
      ]
    },
    {
      "cell_type": "code",
      "source": [
        "#LCS Recursive\n",
        "\n",
        "def lcs(s1,s2,n,m):\n",
        "    if n==0 or m==0:\n",
        "        return 0\n",
        "    elif (s1[n-1]==s2[m-1]):\n",
        "        return 1+lcs(s1,s2,n-1,m-1)\n",
        "    else:\n",
        "        return max(lcs(s1,s2,n-1,m),lcs(s1,s2,n,m-1))\n"
      ],
      "metadata": {
        "id": "7oy_YFzp53HD"
      },
      "execution_count": null,
      "outputs": []
    },
    {
      "cell_type": "code",
      "source": [
        "# s1=\"aniket\"\n",
        "# s2=\"akaniet\"\n",
        "s1=\"aniket\"\n",
        "s2=\"akiet\"\n",
        "lcs(s1,s2,len(s1),len(s2))"
      ],
      "metadata": {
        "colab": {
          "base_uri": "https://localhost:8080/"
        },
        "id": "Gqe9YTvl9vfH",
        "outputId": "97ea8f36-c744-4529-8c44-feca7d181776"
      },
      "execution_count": null,
      "outputs": [
        {
          "output_type": "execute_result",
          "data": {
            "text/plain": [
              "4"
            ]
          },
          "metadata": {},
          "execution_count": 39
        }
      ]
    },
    {
      "cell_type": "code",
      "source": [
        "# LCS Top Down\n",
        "dp=[[-1]*100]*100\n",
        "\n",
        "def lcs(s1,s2,n,m):\n",
        "    if n==0 or m==0:\n",
        "        dp[n][m]=0\n",
        "        return dp[n][m]\n",
        "    if dp[n][m]!=-1:\n",
        "        return dp[n][m]\n",
        "    else:\n",
        "        if (s1[n-1]==s2[m-1]):\n",
        "            dp[n-1][m-1]=1+lcs(s1,s2,n-1,m-1)\n",
        "            return dp[n-1][m-1]\n",
        "        else:\n",
        "            dp[n-1][m-1]=max(lcs(s1,s2,n-1,m),lcs(s1,s2,n,m-1))\n",
        "            return dp[n-1][m-1]\n"
      ],
      "metadata": {
        "id": "JxSbpAUn96ZV"
      },
      "execution_count": null,
      "outputs": []
    },
    {
      "cell_type": "code",
      "source": [
        "s1=\"aniket\"\n",
        "s2=\"akiet\"\n",
        "lcs(s1,s2,len(s1),len(s2))"
      ],
      "metadata": {
        "colab": {
          "base_uri": "https://localhost:8080/"
        },
        "id": "XjV2K7rRIppc",
        "outputId": "c56420df-789e-4c3f-a602-72957623d4a5"
      },
      "execution_count": null,
      "outputs": [
        {
          "output_type": "execute_result",
          "data": {
            "text/plain": [
              "4"
            ]
          },
          "metadata": {},
          "execution_count": 41
        }
      ]
    },
    {
      "cell_type": "code",
      "source": [
        "dp=[[-1]*100]*100\n",
        "\n",
        "def lcs(s1,s2,n,m):\n",
        "    for i in range(0,n+1):\n",
        "        dp[0][i]=0\n",
        "    for j in range(0,m+1):\n",
        "        dp[j][0]=0\n",
        "    for i in range(1,n+1):\n",
        "        for j in range(1,m+1):\n",
        "            if s1[i-1]==s2[j-1]:\n",
        "                dp[j][i]= 1+dp[j-1][i-1]\n",
        "            else:\n",
        "                dp[j][i]=max(dp[j-1][i],dp[j][i-1])\n",
        "    return dp[m][n]"
      ],
      "metadata": {
        "id": "Z3OsLmaaIsKX"
      },
      "execution_count": null,
      "outputs": []
    },
    {
      "cell_type": "code",
      "source": [
        "s1=\"aniket\"\n",
        "s2=\"akiet\"\n",
        "lcs(s1,s2,len(s1),len(s2))"
      ],
      "metadata": {
        "colab": {
          "base_uri": "https://localhost:8080/"
        },
        "id": "_3-YuubTO5Cq",
        "outputId": "66ca5f16-e960-46ab-b2a9-880f1f82933d"
      },
      "execution_count": null,
      "outputs": [
        {
          "output_type": "execute_result",
          "data": {
            "text/plain": [
              "5"
            ]
          },
          "metadata": {},
          "execution_count": 43
        }
      ]
    },
    {
      "cell_type": "code",
      "source": [
        "#Subset Sum Problem\n",
        "dp=[-1]*1000\n",
        "def subsetSum(arr,sum,n):\n",
        "    if dp[n]!=-1:\n",
        "        return dp[n]\n",
        "    else:\n",
        "        if sum==0:\n",
        "            dp[n]=True\n",
        "            return dp[n]\n",
        "        elif sum<0 or n<=0:\n",
        "            dp[n]=False\n",
        "            return dp[n]\n",
        "        else:\n",
        "            dp[n]= subsetSum(arr,sum,n-1) or subsetSum(arr,sum-arr[n-1],n-1)\n",
        "            return dp[n]"
      ],
      "metadata": {
        "id": "OYyk1LPmO8gI"
      },
      "execution_count": null,
      "outputs": []
    },
    {
      "cell_type": "code",
      "source": [
        "arr=[3, 34, 4, 12, 5, 2]\n",
        "sum=9\n",
        "subsetSum(arr,sum,6)"
      ],
      "metadata": {
        "colab": {
          "base_uri": "https://localhost:8080/"
        },
        "id": "7VwgF6zlaXeo",
        "outputId": "2729ca04-d187-4806-8e8a-9eb7dfc1da01"
      },
      "execution_count": null,
      "outputs": [
        {
          "output_type": "execute_result",
          "data": {
            "text/plain": [
              "False"
            ]
          },
          "metadata": {},
          "execution_count": 45
        }
      ]
    },
    {
      "cell_type": "markdown",
      "source": [
        "#LinkedList"
      ],
      "metadata": {
        "id": "e3Jd6mKwx0g6"
      }
    },
    {
      "cell_type": "code",
      "source": [
        "class Node:\n",
        "    def __init__(self,k):\n",
        "        self.key=k\n",
        "        self.next=None\n"
      ],
      "metadata": {
        "id": "xUGTSRr1a9JW"
      },
      "execution_count": null,
      "outputs": []
    },
    {
      "cell_type": "code",
      "source": [
        "temp1=Node(10)\n",
        "temp2=Node(20)\n",
        "temp3=Node(30)\n",
        "\n",
        "temp1.next=temp2\n",
        "temp2.next=temp3\n",
        "head=temp1\n",
        "print(head.next.next.key)"
      ],
      "metadata": {
        "colab": {
          "base_uri": "https://localhost:8080/"
        },
        "id": "xz5m_ZDCyNIs",
        "outputId": "ae30c694-0949-4f29-e954-5d11a8edb7c1"
      },
      "execution_count": null,
      "outputs": [
        {
          "output_type": "stream",
          "name": "stdout",
          "text": [
            "30\n"
          ]
        }
      ]
    },
    {
      "cell_type": "code",
      "source": [
        "def linkedlist_traversal(head):\n",
        "    while(head!=None):\n",
        "        print(head.key)\n",
        "        head=head.next\n",
        "    return"
      ],
      "metadata": {
        "id": "NVg9jrrJyrvN"
      },
      "execution_count": null,
      "outputs": []
    },
    {
      "cell_type": "code",
      "source": [
        "linkedlist_traversal(head)"
      ],
      "metadata": {
        "colab": {
          "base_uri": "https://localhost:8080/"
        },
        "id": "uw721mvHzJEN",
        "outputId": "795e8c44-8a8b-4677-8255-c7339a5d76cb"
      },
      "execution_count": null,
      "outputs": [
        {
          "output_type": "stream",
          "name": "stdout",
          "text": [
            "10\n",
            "20\n",
            "30\n"
          ]
        }
      ]
    },
    {
      "cell_type": "code",
      "source": [
        "def insert_begin(key,head):\n",
        "    temp=Node(key)\n",
        "    temp.next=head\n",
        "    head=temp\n",
        "    return head"
      ],
      "metadata": {
        "id": "cKS-45UMzNZ8"
      },
      "execution_count": null,
      "outputs": []
    },
    {
      "cell_type": "code",
      "source": [
        "head=insert_begin(40,head)\n",
        "linkedlist_traversal(head)"
      ],
      "metadata": {
        "colab": {
          "base_uri": "https://localhost:8080/"
        },
        "id": "tj8ySitAzyOU",
        "outputId": "4c09cbc1-86a0-47fd-8281-f67e9398cfa6"
      },
      "execution_count": null,
      "outputs": [
        {
          "output_type": "stream",
          "name": "stdout",
          "text": [
            "40\n",
            "40\n"
          ]
        }
      ]
    },
    {
      "cell_type": "code",
      "source": [
        "def del_first(head):\n",
        "    if head==None:\n",
        "        return head\n",
        "    else:\n",
        "        return head.next"
      ],
      "metadata": {
        "id": "VX8vo7svz6nS"
      },
      "execution_count": null,
      "outputs": []
    },
    {
      "cell_type": "code",
      "source": [
        "head=del_first(head)\n",
        "linkedlist_traversal(head)"
      ],
      "metadata": {
        "colab": {
          "base_uri": "https://localhost:8080/"
        },
        "id": "pixc4VU51kWv",
        "outputId": "998dc47c-47a6-4009-d490-e097ae760245"
      },
      "execution_count": null,
      "outputs": [
        {
          "output_type": "stream",
          "name": "stdout",
          "text": [
            "40\n"
          ]
        }
      ]
    },
    {
      "cell_type": "markdown",
      "source": [
        "#Tree"
      ],
      "metadata": {
        "id": "0TfNrHtUBTwO"
      }
    },
    {
      "cell_type": "code",
      "source": [
        "class TreeNode:\n",
        "    def __init__(self,k):\n",
        "        self.left=None\n",
        "        self.right=None\n",
        "        self.key=k"
      ],
      "metadata": {
        "id": "h50n1jpF1vbN"
      },
      "execution_count": null,
      "outputs": []
    },
    {
      "cell_type": "code",
      "source": [
        "root=TreeNode(10)\n",
        "root.right=TreeNode(30)\n",
        "root.left=TreeNode(20)\n",
        "root.right.left=TreeNode(40)\n",
        "root.right.right=TreeNode(50)"
      ],
      "metadata": {
        "id": "p_omsfreBbP9"
      },
      "execution_count": null,
      "outputs": []
    },
    {
      "cell_type": "code",
      "source": [
        "def Inorder(root):\n",
        "    if root==None:\n",
        "        return\n",
        "    else:\n",
        "        Inorder(root.left)\n",
        "        print(root.key)\n",
        "        Inorder(root.right)\n",
        "        return"
      ],
      "metadata": {
        "id": "iOg9SMPNCMsJ"
      },
      "execution_count": null,
      "outputs": []
    },
    {
      "cell_type": "code",
      "source": [
        "Inorder(root)"
      ],
      "metadata": {
        "colab": {
          "base_uri": "https://localhost:8080/"
        },
        "id": "6sBk-i3DDGFC",
        "outputId": "60030d5a-e6f4-4d76-d565-a8888af02771"
      },
      "execution_count": null,
      "outputs": [
        {
          "output_type": "stream",
          "name": "stdout",
          "text": [
            "20\n",
            "10\n",
            "40\n",
            "30\n",
            "50\n"
          ]
        }
      ]
    },
    {
      "cell_type": "code",
      "source": [
        "def height_of_tree(root):\n",
        "    if root==None:\n",
        "        return 0\n",
        "    else:\n",
        "        return 1+max(height_of_tree(root.right),height_of_tree(root.left))"
      ],
      "metadata": {
        "id": "wIP5WODyDIqb"
      },
      "execution_count": null,
      "outputs": []
    },
    {
      "cell_type": "code",
      "source": [
        "height_of_tree(root)"
      ],
      "metadata": {
        "colab": {
          "base_uri": "https://localhost:8080/"
        },
        "id": "XgX1WIkKDvyv",
        "outputId": "bf77106c-1fce-460a-8ee0-70fff8c4444a"
      },
      "execution_count": null,
      "outputs": [
        {
          "output_type": "execute_result",
          "data": {
            "text/plain": [
              "3"
            ]
          },
          "metadata": {},
          "execution_count": 50
        }
      ]
    },
    {
      "cell_type": "code",
      "source": [
        "def K_height(root,k):\n",
        "    if root==None:\n",
        "        return\n",
        "    elif k==0:\n",
        "        print(root.key)\n",
        "    else:\n",
        "        K_height(root.left,k-1)\n",
        "        K_height(root.right,k-1)"
      ],
      "metadata": {
        "id": "ugko_ETlD0GL"
      },
      "execution_count": null,
      "outputs": []
    },
    {
      "cell_type": "code",
      "source": [
        "K_height(root,1)"
      ],
      "metadata": {
        "colab": {
          "base_uri": "https://localhost:8080/"
        },
        "id": "-qrJseSCFf4D",
        "outputId": "13df8a57-3945-45e0-9813-7225418452b1"
      },
      "execution_count": null,
      "outputs": [
        {
          "output_type": "stream",
          "name": "stdout",
          "text": [
            "20\n",
            "30\n"
          ]
        }
      ]
    },
    {
      "cell_type": "markdown",
      "source": [
        "#Greedy"
      ],
      "metadata": {
        "id": "EjL0m2uVIbPq"
      }
    },
    {
      "cell_type": "code",
      "source": [
        "# Min no of coins\n",
        "def min_coins(arr,amount):\n",
        "    arr.sort(reverse=True)\n",
        "    ans=0\n",
        "    for i in arr:\n",
        "        print(\"amount----->\",amount)\n",
        "        if amount>=i:\n",
        "            k=amount//i\n",
        "            print(\"k------>\",k)\n",
        "            ans=ans+k\n",
        "            amount=amount-k*i\n",
        "        if  amount<=0:\n",
        "            break\n",
        "    return ans"
      ],
      "metadata": {
        "id": "vIfoJR2cIm4g"
      },
      "execution_count": null,
      "outputs": []
    },
    {
      "cell_type": "code",
      "source": [
        "arr=[5,10,2,1]\n",
        "amount=57\n",
        "min_coins(arr,amount)"
      ],
      "metadata": {
        "colab": {
          "base_uri": "https://localhost:8080/"
        },
        "id": "stY20BNBJmjB",
        "outputId": "d39e4b02-0089-48fc-99c8-8a5ada5c727d"
      },
      "execution_count": null,
      "outputs": [
        {
          "output_type": "stream",
          "name": "stdout",
          "text": [
            "amount-----> 57\n",
            "k------> 5\n",
            "amount-----> 7\n",
            "k------> 1\n",
            "amount-----> 2\n",
            "k------> 1\n"
          ]
        },
        {
          "output_type": "execute_result",
          "data": {
            "text/plain": [
              "7"
            ]
          },
          "metadata": {},
          "execution_count": 12
        }
      ]
    },
    {
      "cell_type": "code",
      "source": [
        "# Sorting an array based on second element\n",
        "arr=[[2,3],[4,1]]\n",
        "arr.sort(key=lambda x:x[1])\n",
        "print(arr)"
      ],
      "metadata": {
        "colab": {
          "base_uri": "https://localhost:8080/"
        },
        "id": "IIuIl8n7J8JK",
        "outputId": "5c99faf6-2e1b-47b2-9331-8d47287c6328"
      },
      "execution_count": null,
      "outputs": [
        {
          "output_type": "stream",
          "name": "stdout",
          "text": [
            "[[4, 1], [2, 3]]\n"
          ]
        }
      ]
    },
    {
      "cell_type": "markdown",
      "source": [
        "#Heap"
      ],
      "metadata": {
        "id": "6vgMo4CBy1C8"
      }
    },
    {
      "cell_type": "code",
      "source": [
        "class MyHeap:\n",
        "    def __init__(self):\n",
        "        self.arr=[]\n",
        "    def parent(self,i):\n",
        "        return (i-1)//2\n",
        "    def lchild(self,i):\n",
        "        return 2*i+1\n",
        "    def rchild(self,i):\n",
        "        return 2*i+2\n",
        "    def insert(self,a):\n",
        "        arr=self.arr\n",
        "        arr.append(a)\n",
        "        t=len(arr)-1\n",
        "        while (t>0):\n",
        "            if arr[self.parent(t)]>arr[t]:\n",
        "                p=self.parent(t)\n",
        "                arr[t], arr[p]=arr[p],arr[t]\n",
        "                t=p    #Beacause in above statement only values are swapped. We need to update the index value also.\n",
        "        return\n",
        "    def extract_min(self):\n",
        "        arr=self.arr\n",
        "        ans=arr[0]\n",
        "        arr[0], arr[len(arr)-1] =arr[len(arr)-1], arr[0]\n",
        "        self.heapify(arr, 0)\n",
        "        return ans\n",
        "    def heapify(self, arr, i):\n",
        "        if arr[i]>arr[lchild(i)]:\n",
        "            arr[i], arr[lchild(i)]=arr[lchild(i)], arr[i]\n",
        "            return heapify\n",
        "        if arr[i]>arr[rchild(i)]:\n",
        "            arr[i], arr[rchild(i)]=arr[rchild(i)], arr[i]\n",
        "\n",
        "\n"
      ],
      "metadata": {
        "id": "50_4PMdH0DZl"
      },
      "execution_count": null,
      "outputs": []
    },
    {
      "cell_type": "code",
      "source": [
        "import heapq\n",
        "\n",
        "pq=[5,20,1,30,4]\n",
        "heapq.heapify(pq)\n",
        "print(pq)"
      ],
      "metadata": {
        "colab": {
          "base_uri": "https://localhost:8080/"
        },
        "id": "Jxj3gT9q4g8p",
        "outputId": "09eab17e-ccab-47bb-bbfe-2cd4e1602a54"
      },
      "execution_count": null,
      "outputs": [
        {
          "output_type": "stream",
          "name": "stdout",
          "text": [
            "[1, 4, 5, 30, 20]\n"
          ]
        }
      ]
    },
    {
      "cell_type": "code",
      "source": [
        "heapq.heappush(pq,3)\n",
        "print(pq)"
      ],
      "metadata": {
        "colab": {
          "base_uri": "https://localhost:8080/"
        },
        "id": "NBQVEwZY4uCW",
        "outputId": "3324d8bc-34fc-4100-848d-564438fc2313"
      },
      "execution_count": null,
      "outputs": [
        {
          "output_type": "stream",
          "name": "stdout",
          "text": [
            "[1, 4, 3, 30, 20, 5]\n"
          ]
        }
      ]
    },
    {
      "cell_type": "code",
      "source": [
        "heapq.heappop(pq)"
      ],
      "metadata": {
        "colab": {
          "base_uri": "https://localhost:8080/"
        },
        "id": "KpAdHCFe42rg",
        "outputId": "4766ba0c-f3c5-420e-9cb6-74abcacfe9fd"
      },
      "execution_count": null,
      "outputs": [
        {
          "output_type": "execute_result",
          "data": {
            "text/plain": [
              "1"
            ]
          },
          "metadata": {},
          "execution_count": 4
        }
      ]
    },
    {
      "cell_type": "code",
      "source": [
        "print(pq)"
      ],
      "metadata": {
        "colab": {
          "base_uri": "https://localhost:8080/"
        },
        "id": "xXclQdj64_2B",
        "outputId": "d7857344-983a-442f-d2ed-4d759a686960"
      },
      "execution_count": null,
      "outputs": [
        {
          "output_type": "stream",
          "name": "stdout",
          "text": [
            "[3, 4, 5, 30, 20]\n"
          ]
        }
      ]
    },
    {
      "cell_type": "code",
      "source": [
        "x=lambda a,b:a*b\n"
      ],
      "metadata": {
        "id": "5R33gU1X5CIH"
      },
      "execution_count": null,
      "outputs": []
    },
    {
      "cell_type": "code",
      "source": [
        "print(x(3,4))"
      ],
      "metadata": {
        "colab": {
          "base_uri": "https://localhost:8080/"
        },
        "id": "VYgesVTp6ZsR",
        "outputId": "f395f041-7a74-4f35-d30f-0fc36cac962a"
      },
      "execution_count": null,
      "outputs": [
        {
          "output_type": "stream",
          "name": "stdout",
          "text": [
            "12\n"
          ]
        }
      ]
    },
    {
      "cell_type": "code",
      "source": [
        "a=[1,2,4,6]\n",
        "b=[4,2,7,1]\n",
        "c=[]\n",
        "for i in range(len(a)):\n",
        "    c.append([a[i],b[i]])\n",
        "print(c)"
      ],
      "metadata": {
        "colab": {
          "base_uri": "https://localhost:8080/"
        },
        "id": "uOYSyzh_6fTa",
        "outputId": "81e71098-f1e8-4bbd-df8f-70ef4a36e683"
      },
      "execution_count": null,
      "outputs": [
        {
          "output_type": "stream",
          "name": "stdout",
          "text": [
            "[[1, 4], [2, 2], [4, 7], [6, 1]]\n"
          ]
        }
      ]
    },
    {
      "cell_type": "code",
      "source": [
        "def sort_pair(arr):\n",
        "    arr.sort(key=lambda x:x[1])\n",
        "    return arr"
      ],
      "metadata": {
        "id": "3e3AuGaQ7Sik"
      },
      "execution_count": null,
      "outputs": []
    },
    {
      "cell_type": "code",
      "source": [
        "print(sort_pair(c))"
      ],
      "metadata": {
        "colab": {
          "base_uri": "https://localhost:8080/"
        },
        "id": "DDxXeAws7_h9",
        "outputId": "d1e98188-6d3a-4dc5-ba3c-90a6487dd24f"
      },
      "execution_count": null,
      "outputs": [
        {
          "output_type": "stream",
          "name": "stdout",
          "text": [
            "[[6, 1], [2, 2], [1, 4], [4, 7]]\n"
          ]
        }
      ]
    },
    {
      "cell_type": "code",
      "source": [
        "def maximumMeetings(n,start,end):\n",
        "        arr=[]\n",
        "        for i in range(len(start)):\n",
        "            arr.append([start[i],end[i]])\n",
        "        arr=sort_pair(arr)\n",
        "        # print(arr)\n",
        "        count=1\n",
        "        st=0\n",
        "        for i in range(len(start)):\n",
        "            # print(i)\n",
        "            if arr[st][1]<arr[i][0]:\n",
        "                # print(\"i\",i)\n",
        "                count=count+1\n",
        "                st=i\n",
        "        return count\n"
      ],
      "metadata": {
        "id": "DIMmSZaV8EVT"
      },
      "execution_count": null,
      "outputs": []
    },
    {
      "cell_type": "code",
      "source": [
        "s=[75250, 50074, 43659, 8931, 11273, 27545, 50879, 77924]\n",
        "e=[112960, 114515, 81825, 93424, 54316, 35533, 73383, 160252]\n",
        "\n",
        "maximumMeetings(len(s),s,e)"
      ],
      "metadata": {
        "colab": {
          "base_uri": "https://localhost:8080/"
        },
        "id": "YTJ4iFct-7bo",
        "outputId": "1b8f5546-5ec6-4e7c-b711-c454eb0cfb09"
      },
      "execution_count": null,
      "outputs": [
        {
          "output_type": "stream",
          "name": "stdout",
          "text": [
            "[[27545, 35533], [11273, 54316], [50879, 73383], [43659, 81825], [8931, 93424], [75250, 112960], [50074, 114515], [77924, 160252]]\n",
            "i 2\n",
            "i 5\n"
          ]
        },
        {
          "output_type": "execute_result",
          "data": {
            "text/plain": [
              "3"
            ]
          },
          "metadata": {},
          "execution_count": 26
        }
      ]
    },
    {
      "cell_type": "code",
      "source": [
        "keypad=['','','abc','def','ghi','jkl','mno','pqrs','tuv','wxyz']\n",
        "ans=[]\n",
        "def printit(a,inde,s):\n",
        "    if inde==len(a):\n",
        "        ans.append(s)\n",
        "        # print(s)\n",
        "        return\n",
        "    else:\n",
        "        for i in keypad[a[inde]]:\n",
        "            # print(\"inde\",inde)\n",
        "            # print(\"a_index-------\",a[int(inde)])\n",
        "            # print(\"i----\",i)\n",
        "            new_s=s+i\n",
        "            printit(a,inde+1,new_s)\n",
        "        return\n",
        "\n",
        "def possibleWords(a,N):\n",
        "    s=''\n",
        "    printit(a,0,s)\n",
        "    return"
      ],
      "metadata": {
        "id": "wCUTQRc0_Kkk"
      },
      "execution_count": null,
      "outputs": []
    },
    {
      "cell_type": "code",
      "source": [
        "a=[5,8,8,9,8]\n",
        "N=5\n",
        "possibleWords(a,N)"
      ],
      "metadata": {
        "id": "ByA_ddYIFVql"
      },
      "execution_count": null,
      "outputs": []
    },
    {
      "cell_type": "code",
      "source": [
        "print(ans)"
      ],
      "metadata": {
        "colab": {
          "base_uri": "https://localhost:8080/"
        },
        "id": "Qm78TtxeFmUC",
        "outputId": "e9a51107-cc46-449c-bc3c-57ea5fd57dc1"
      },
      "execution_count": null,
      "outputs": [
        {
          "output_type": "stream",
          "name": "stdout",
          "text": [
            "['jttwt', 'jttwu', 'jttwv', 'jttxt', 'jttxu', 'jttxv', 'jttyt', 'jttyu', 'jttyv', 'jttzt', 'jttzu', 'jttzv', 'jtuwt', 'jtuwu', 'jtuwv', 'jtuxt', 'jtuxu', 'jtuxv', 'jtuyt', 'jtuyu', 'jtuyv', 'jtuzt', 'jtuzu', 'jtuzv', 'jtvwt', 'jtvwu', 'jtvwv', 'jtvxt', 'jtvxu', 'jtvxv', 'jtvyt', 'jtvyu', 'jtvyv', 'jtvzt', 'jtvzu', 'jtvzv', 'jutwt', 'jutwu', 'jutwv', 'jutxt', 'jutxu', 'jutxv', 'jutyt', 'jutyu', 'jutyv', 'jutzt', 'jutzu', 'jutzv', 'juuwt', 'juuwu', 'juuwv', 'juuxt', 'juuxu', 'juuxv', 'juuyt', 'juuyu', 'juuyv', 'juuzt', 'juuzu', 'juuzv', 'juvwt', 'juvwu', 'juvwv', 'juvxt', 'juvxu', 'juvxv', 'juvyt', 'juvyu', 'juvyv', 'juvzt', 'juvzu', 'juvzv', 'jvtwt', 'jvtwu', 'jvtwv', 'jvtxt', 'jvtxu', 'jvtxv', 'jvtyt', 'jvtyu', 'jvtyv', 'jvtzt', 'jvtzu', 'jvtzv', 'jvuwt', 'jvuwu', 'jvuwv', 'jvuxt', 'jvuxu', 'jvuxv', 'jvuyt', 'jvuyu', 'jvuyv', 'jvuzt', 'jvuzu', 'jvuzv', 'jvvwt', 'jvvwu', 'jvvwv', 'jvvxt', 'jvvxu', 'jvvxv', 'jvvyt', 'jvvyu', 'jvvyv', 'jvvzt', 'jvvzu', 'jvvzv', 'kttwt', 'kttwu', 'kttwv', 'kttxt', 'kttxu', 'kttxv', 'kttyt', 'kttyu', 'kttyv', 'kttzt', 'kttzu', 'kttzv', 'ktuwt', 'ktuwu', 'ktuwv', 'ktuxt', 'ktuxu', 'ktuxv', 'ktuyt', 'ktuyu', 'ktuyv', 'ktuzt', 'ktuzu', 'ktuzv', 'ktvwt', 'ktvwu', 'ktvwv', 'ktvxt', 'ktvxu', 'ktvxv', 'ktvyt', 'ktvyu', 'ktvyv', 'ktvzt', 'ktvzu', 'ktvzv', 'kutwt', 'kutwu', 'kutwv', 'kutxt', 'kutxu', 'kutxv', 'kutyt', 'kutyu', 'kutyv', 'kutzt', 'kutzu', 'kutzv', 'kuuwt', 'kuuwu', 'kuuwv', 'kuuxt', 'kuuxu', 'kuuxv', 'kuuyt', 'kuuyu', 'kuuyv', 'kuuzt', 'kuuzu', 'kuuzv', 'kuvwt', 'kuvwu', 'kuvwv', 'kuvxt', 'kuvxu', 'kuvxv', 'kuvyt', 'kuvyu', 'kuvyv', 'kuvzt', 'kuvzu', 'kuvzv', 'kvtwt', 'kvtwu', 'kvtwv', 'kvtxt', 'kvtxu', 'kvtxv', 'kvtyt', 'kvtyu', 'kvtyv', 'kvtzt', 'kvtzu', 'kvtzv', 'kvuwt', 'kvuwu', 'kvuwv', 'kvuxt', 'kvuxu', 'kvuxv', 'kvuyt', 'kvuyu', 'kvuyv', 'kvuzt', 'kvuzu', 'kvuzv', 'kvvwt', 'kvvwu', 'kvvwv', 'kvvxt', 'kvvxu', 'kvvxv', 'kvvyt', 'kvvyu', 'kvvyv', 'kvvzt', 'kvvzu', 'kvvzv', 'lttwt', 'lttwu', 'lttwv', 'lttxt', 'lttxu', 'lttxv', 'lttyt', 'lttyu', 'lttyv', 'lttzt', 'lttzu', 'lttzv', 'ltuwt', 'ltuwu', 'ltuwv', 'ltuxt', 'ltuxu', 'ltuxv', 'ltuyt', 'ltuyu', 'ltuyv', 'ltuzt', 'ltuzu', 'ltuzv', 'ltvwt', 'ltvwu', 'ltvwv', 'ltvxt', 'ltvxu', 'ltvxv', 'ltvyt', 'ltvyu', 'ltvyv', 'ltvzt', 'ltvzu', 'ltvzv', 'lutwt', 'lutwu', 'lutwv', 'lutxt', 'lutxu', 'lutxv', 'lutyt', 'lutyu', 'lutyv', 'lutzt', 'lutzu', 'lutzv', 'luuwt', 'luuwu', 'luuwv', 'luuxt', 'luuxu', 'luuxv', 'luuyt', 'luuyu', 'luuyv', 'luuzt', 'luuzu', 'luuzv', 'luvwt', 'luvwu', 'luvwv', 'luvxt', 'luvxu', 'luvxv', 'luvyt', 'luvyu', 'luvyv', 'luvzt', 'luvzu', 'luvzv', 'lvtwt', 'lvtwu', 'lvtwv', 'lvtxt', 'lvtxu', 'lvtxv', 'lvtyt', 'lvtyu', 'lvtyv', 'lvtzt', 'lvtzu', 'lvtzv', 'lvuwt', 'lvuwu', 'lvuwv', 'lvuxt', 'lvuxu', 'lvuxv', 'lvuyt', 'lvuyu', 'lvuyv', 'lvuzt', 'lvuzu', 'lvuzv', 'lvvwt', 'lvvwu', 'lvvwv', 'lvvxt', 'lvvxu', 'lvvxv', 'lvvyt', 'lvvyu', 'lvvyv', 'lvvzt', 'lvvzu', 'lvvzv']\n"
          ]
        }
      ]
    },
    {
      "cell_type": "code",
      "source": [
        "def binarySearch(start,end,A,B):\n",
        "    if start>=end:\n",
        "        return -1\n",
        "    mid=start+(end-start)//2\n",
        "    # print(mid)\n",
        "    if A[mid]==B:\n",
        "        return mid\n",
        "    elif A[mid]>B:\n",
        "        end=mid-1\n",
        "        return binarySearch(start,end,A,B)\n",
        "    else:\n",
        "        start=mid+1\n",
        "        return binarySearch(start,end,A,B)\n"
      ],
      "metadata": {
        "id": "g6C0Sl4EIcFB"
      },
      "execution_count": null,
      "outputs": []
    },
    {
      "cell_type": "code",
      "source": [
        "A = [ 1, 2, 3, 4, 5, 10]\n",
        "binarySearch(0,5,A,5)"
      ],
      "metadata": {
        "colab": {
          "base_uri": "https://localhost:8080/"
        },
        "id": "FLMH7s7gGZwN",
        "outputId": "1b4ff3c1-7fc1-422b-a52b-e15c077dc62c"
      },
      "execution_count": null,
      "outputs": [
        {
          "output_type": "execute_result",
          "data": {
            "text/plain": [
              "4"
            ]
          },
          "metadata": {},
          "execution_count": 49
        }
      ]
    },
    {
      "cell_type": "code",
      "source": [
        "\n",
        "def binarySearch(start,end,A,B):\n",
        "    if start>end:\n",
        "        return -1\n",
        "    mid=start+(end-start)//2\n",
        "    # print(mid)\n",
        "    if A[mid]==B:\n",
        "        return mid\n",
        "    elif A[mid]>B:\n",
        "        # end=mid-1\n",
        "        return binarySearch(start,mid-1,A,B)\n",
        "    else:\n",
        "        # start=mid+1\n",
        "        return binarySearch(mid+1,end,A,B)\n",
        "\n",
        "def binarySearchReverse(start,end,A,B):\n",
        "    if start>end:\n",
        "        return -1\n",
        "    mid=start+(end-start)//2\n",
        "\n",
        "    if A[mid]==B:\n",
        "        return mid\n",
        "    elif A[mid]<B:\n",
        "        end=mid-1\n",
        "        return binarySearch(start,end,A,B)\n",
        "    else:\n",
        "        start=mid+1\n",
        "        return binarySearch(start,end,A,B)\n",
        "\n",
        "def peak_element(A):\n",
        "    low=0\n",
        "    high=len(A)-1\n",
        "    while low<=high:\n",
        "        mid=low+(high-low)//2\n",
        "        if mid>0 and mid<len(A)-1:\n",
        "            if A[mid]>A[mid-1] and A[mid]>A[mid+1]:\n",
        "                return mid\n",
        "            elif A[mid]>A[mid-1]:\n",
        "                low=mid-1\n",
        "            else:\n",
        "                high=mid+1\n",
        "        elif mid==0:\n",
        "            if A[0]>A[1]:\n",
        "                return 0\n",
        "            else:\n",
        "                return 1\n",
        "        elif mid==len(A)-1:\n",
        "            if A[len(A)-1]>A[len(A)-2]:\n",
        "                return len(A)-1\n",
        "            else:\n",
        "                return len(A)-2\n",
        "\n"
      ],
      "metadata": {
        "id": "7U0iRcM5Gg5c"
      },
      "execution_count": null,
      "outputs": []
    },
    {
      "cell_type": "code",
      "source": [
        "A = [ 1, 20, 50, 40, 10 ]\n",
        "def bitonicSearch(A, B):\n",
        "        k=peak_element(A)\n",
        "        l=binarySearch(0,k-1,A,B)\n",
        "        h=binarySearchReverse(k+1,len(A),A,B)\n",
        "        # print(h)\n",
        "        # print(l)\n",
        "        # print(k)\n",
        "        if h==-1 and l==-1:\n",
        "            return -1\n",
        "        elif h!=-1:\n",
        "            return h\n",
        "        else:\n",
        "            return l\n"
      ],
      "metadata": {
        "id": "JLwTK_Peb0T_"
      },
      "execution_count": null,
      "outputs": []
    },
    {
      "cell_type": "code",
      "source": [
        "bitonicSearch(A,5)"
      ],
      "metadata": {
        "colab": {
          "base_uri": "https://localhost:8080/",
          "height": 311
        },
        "id": "zPUiS5AMcDhB",
        "outputId": "b0be47ad-c692-41d1-feab-d64462a61d20"
      },
      "execution_count": null,
      "outputs": [
        {
          "output_type": "error",
          "ename": "IndexError",
          "evalue": "ignored",
          "traceback": [
            "\u001b[0;31m---------------------------------------------------------------------------\u001b[0m",
            "\u001b[0;31mIndexError\u001b[0m                                Traceback (most recent call last)",
            "\u001b[0;32m<ipython-input-47-f29c4e0935e6>\u001b[0m in \u001b[0;36m<module>\u001b[0;34m\u001b[0m\n\u001b[0;32m----> 1\u001b[0;31m \u001b[0mbitonicSearch\u001b[0m\u001b[0;34m(\u001b[0m\u001b[0mA\u001b[0m\u001b[0;34m,\u001b[0m\u001b[0;36m5\u001b[0m\u001b[0;34m)\u001b[0m\u001b[0;34m\u001b[0m\u001b[0;34m\u001b[0m\u001b[0m\n\u001b[0m",
            "\u001b[0;32m<ipython-input-46-401006a602e8>\u001b[0m in \u001b[0;36mbitonicSearch\u001b[0;34m(A, B)\u001b[0m\n\u001b[1;32m      3\u001b[0m         \u001b[0mk\u001b[0m\u001b[0;34m=\u001b[0m\u001b[0mpeak_element\u001b[0m\u001b[0;34m(\u001b[0m\u001b[0mA\u001b[0m\u001b[0;34m)\u001b[0m\u001b[0;34m\u001b[0m\u001b[0;34m\u001b[0m\u001b[0m\n\u001b[1;32m      4\u001b[0m         \u001b[0ml\u001b[0m\u001b[0;34m=\u001b[0m\u001b[0mbinarySearch\u001b[0m\u001b[0;34m(\u001b[0m\u001b[0;36m0\u001b[0m\u001b[0;34m,\u001b[0m\u001b[0mk\u001b[0m\u001b[0;34m-\u001b[0m\u001b[0;36m1\u001b[0m\u001b[0;34m,\u001b[0m\u001b[0mA\u001b[0m\u001b[0;34m,\u001b[0m\u001b[0mB\u001b[0m\u001b[0;34m)\u001b[0m\u001b[0;34m\u001b[0m\u001b[0;34m\u001b[0m\u001b[0m\n\u001b[0;32m----> 5\u001b[0;31m         \u001b[0mh\u001b[0m\u001b[0;34m=\u001b[0m\u001b[0mbinarySearchReverse\u001b[0m\u001b[0;34m(\u001b[0m\u001b[0mk\u001b[0m\u001b[0;34m+\u001b[0m\u001b[0;36m1\u001b[0m\u001b[0;34m,\u001b[0m\u001b[0mlen\u001b[0m\u001b[0;34m(\u001b[0m\u001b[0mA\u001b[0m\u001b[0;34m)\u001b[0m\u001b[0;34m,\u001b[0m\u001b[0mA\u001b[0m\u001b[0;34m,\u001b[0m\u001b[0mB\u001b[0m\u001b[0;34m)\u001b[0m\u001b[0;34m\u001b[0m\u001b[0;34m\u001b[0m\u001b[0m\n\u001b[0m\u001b[1;32m      6\u001b[0m         \u001b[0;31m# print(h)\u001b[0m\u001b[0;34m\u001b[0m\u001b[0;34m\u001b[0m\u001b[0;34m\u001b[0m\u001b[0m\n\u001b[1;32m      7\u001b[0m         \u001b[0;31m# print(l)\u001b[0m\u001b[0;34m\u001b[0m\u001b[0;34m\u001b[0m\u001b[0;34m\u001b[0m\u001b[0m\n",
            "\u001b[0;32m<ipython-input-45-b3d3d84d923a>\u001b[0m in \u001b[0;36mbinarySearchReverse\u001b[0;34m(start, end, A, B)\u001b[0m\n\u001b[1;32m     51\u001b[0m     \u001b[0;32melse\u001b[0m\u001b[0;34m:\u001b[0m\u001b[0;34m\u001b[0m\u001b[0;34m\u001b[0m\u001b[0m\n\u001b[1;32m     52\u001b[0m         \u001b[0mstart\u001b[0m\u001b[0;34m=\u001b[0m\u001b[0mmid\u001b[0m\u001b[0;34m+\u001b[0m\u001b[0;36m1\u001b[0m\u001b[0;34m\u001b[0m\u001b[0;34m\u001b[0m\u001b[0m\n\u001b[0;32m---> 53\u001b[0;31m         \u001b[0;32mreturn\u001b[0m \u001b[0mbinarySearch\u001b[0m\u001b[0;34m(\u001b[0m\u001b[0mstart\u001b[0m\u001b[0;34m,\u001b[0m\u001b[0mend\u001b[0m\u001b[0;34m,\u001b[0m\u001b[0mA\u001b[0m\u001b[0;34m,\u001b[0m\u001b[0mB\u001b[0m\u001b[0;34m)\u001b[0m\u001b[0;34m\u001b[0m\u001b[0;34m\u001b[0m\u001b[0m\n\u001b[0m\u001b[1;32m     54\u001b[0m \u001b[0;34m\u001b[0m\u001b[0m\n\u001b[1;32m     55\u001b[0m \u001b[0;32mdef\u001b[0m \u001b[0mpeak_element\u001b[0m\u001b[0;34m(\u001b[0m\u001b[0mA\u001b[0m\u001b[0;34m)\u001b[0m\u001b[0;34m:\u001b[0m\u001b[0;34m\u001b[0m\u001b[0;34m\u001b[0m\u001b[0m\n",
            "\u001b[0;32m<ipython-input-45-b3d3d84d923a>\u001b[0m in \u001b[0;36mbinarySearch\u001b[0;34m(start, end, A, B)\u001b[0m\n\u001b[1;32m     30\u001b[0m     \u001b[0mmid\u001b[0m\u001b[0;34m=\u001b[0m\u001b[0mstart\u001b[0m\u001b[0;34m+\u001b[0m\u001b[0;34m(\u001b[0m\u001b[0mend\u001b[0m\u001b[0;34m-\u001b[0m\u001b[0mstart\u001b[0m\u001b[0;34m)\u001b[0m\u001b[0;34m//\u001b[0m\u001b[0;36m2\u001b[0m\u001b[0;34m\u001b[0m\u001b[0;34m\u001b[0m\u001b[0m\n\u001b[1;32m     31\u001b[0m     \u001b[0;31m# print(mid)\u001b[0m\u001b[0;34m\u001b[0m\u001b[0;34m\u001b[0m\u001b[0;34m\u001b[0m\u001b[0m\n\u001b[0;32m---> 32\u001b[0;31m     \u001b[0;32mif\u001b[0m \u001b[0mA\u001b[0m\u001b[0;34m[\u001b[0m\u001b[0mmid\u001b[0m\u001b[0;34m]\u001b[0m\u001b[0;34m==\u001b[0m\u001b[0mB\u001b[0m\u001b[0;34m:\u001b[0m\u001b[0;34m\u001b[0m\u001b[0;34m\u001b[0m\u001b[0m\n\u001b[0m\u001b[1;32m     33\u001b[0m         \u001b[0;32mreturn\u001b[0m \u001b[0mmid\u001b[0m\u001b[0;34m\u001b[0m\u001b[0;34m\u001b[0m\u001b[0m\n\u001b[1;32m     34\u001b[0m     \u001b[0;32melif\u001b[0m \u001b[0mA\u001b[0m\u001b[0;34m[\u001b[0m\u001b[0mmid\u001b[0m\u001b[0;34m]\u001b[0m\u001b[0;34m>\u001b[0m\u001b[0mB\u001b[0m\u001b[0;34m:\u001b[0m\u001b[0;34m\u001b[0m\u001b[0;34m\u001b[0m\u001b[0m\n",
            "\u001b[0;31mIndexError\u001b[0m: list index out of range"
          ]
        }
      ]
    },
    {
      "cell_type": "code",
      "source": [
        "\n",
        "def helper( n, initial):\n",
        "    print(\"n----\",n)\n",
        "    print(\"initial------\",initial)\n",
        "    if n==1:\n",
        "        return True\n",
        "    elif n==initial:\n",
        "        return False\n",
        "    sum=0\n",
        "    while n>0:\n",
        "        sum=sum+(n%10)*(n%10)\n",
        "        n=n//10\n",
        "    return helper(sum,initial)\n",
        "\n",
        "def isHappy( n: int) -> bool:\n",
        "    s=0\n",
        "    m=n\n",
        "    while n>0:\n",
        "        s=s+(n%10)*(n%10)\n",
        "        n=n//10\n",
        "    return helper(s,m)\n"
      ],
      "metadata": {
        "id": "GGV0uqewcHf6"
      },
      "execution_count": null,
      "outputs": []
    },
    {
      "cell_type": "code",
      "source": [
        "n=4\n",
        "isHappy(4)"
      ],
      "metadata": {
        "colab": {
          "base_uri": "https://localhost:8080/"
        },
        "id": "TMuVDK00bmBe",
        "outputId": "a2c9a4a6-2141-45fc-9bf1-6a606919d6cf"
      },
      "execution_count": null,
      "outputs": [
        {
          "output_type": "stream",
          "name": "stdout",
          "text": [
            "n---- 16\n",
            "initial------ 4\n",
            "n---- 37\n",
            "initial------ 4\n",
            "n---- 58\n",
            "initial------ 4\n",
            "n---- 89\n",
            "initial------ 4\n",
            "n---- 145\n",
            "initial------ 4\n",
            "n---- 42\n",
            "initial------ 4\n",
            "n---- 20\n",
            "initial------ 4\n",
            "n---- 4\n",
            "initial------ 4\n"
          ]
        },
        {
          "output_type": "execute_result",
          "data": {
            "text/plain": [
              "False"
            ]
          },
          "metadata": {},
          "execution_count": 18
        }
      ]
    },
    {
      "cell_type": "code",
      "source": [
        "an='a'\n",
        "print(ord(an))"
      ],
      "metadata": {
        "id": "7ghJAJmYb20c",
        "colab": {
          "base_uri": "https://localhost:8080/"
        },
        "outputId": "dc428544-fb90-4452-daad-6f2678e5d05a"
      },
      "execution_count": null,
      "outputs": [
        {
          "output_type": "stream",
          "name": "stdout",
          "text": [
            "97\n"
          ]
        }
      ]
    },
    {
      "cell_type": "code",
      "source": [
        "def mergeTwoLists(self, list1, list2) :\n",
        "        cur = dummy = ListNode()\n",
        "        while list1 and list2:\n",
        "            if list1.val < list2.val:\n",
        "                cur.next = list1\n",
        "                list1, cur = list1.next, list1\n",
        "            else:\n",
        "                cur.next = list2\n",
        "                list2, cur = list2.next, list2\n",
        "\n",
        "        if list1 or list2:\n",
        "            cur.next = list1 if list1 else list2\n",
        "\n",
        "        return dummy.next"
      ],
      "metadata": {
        "id": "neNXGT75UF9x"
      },
      "execution_count": null,
      "outputs": []
    },
    {
      "cell_type": "code",
      "source": [
        "def longestPalindrome( s):\n",
        "        hashmap=[0]*26\n",
        "        hashmapC=[0]*26\n",
        "        for i in s:\n",
        "            if (ord(i)-ord('A'))<26:\n",
        "                hashmapC[ord(i)-ord('A')]+=1\n",
        "            else:\n",
        "                hashmap[ord(i)-ord('a')]+=1\n",
        "        ans=0\n",
        "        odd=0\n",
        "        for i in hashmap:\n",
        "            if i%2==0:\n",
        "                ans+=i\n",
        "            else:\n",
        "                if i>odd:\n",
        "                    odd=i\n",
        "\n",
        "        for i in hashmapC:\n",
        "            if i%2==0:\n",
        "                ans+=i\n",
        "            else:\n",
        "                if i>odd:\n",
        "                    odd=i\n",
        "        return odd+ans"
      ],
      "metadata": {
        "id": "zSq_cG-dfR72"
      },
      "execution_count": null,
      "outputs": []
    },
    {
      "cell_type": "code",
      "source": [
        "s=\"civilwartestingwhetherthatnaptionoranynartionsoconceivedandsodedicatedcanlongendureWeareqmetonagreatbattlefiemldoftzhatwarWehavecometodedicpateaportionofthatfieldasafinalrestingplaceforthosewhoheregavetheirlivesthatthatnationmightliveItisaltogetherfangandproperthatweshoulddothisButinalargersensewecannotdedicatewecannotconsecratewecannothallowthisgroundThebravelmenlivinganddeadwhostruggledherehaveconsecrateditfaraboveourpoorponwertoaddordetractTgheworldadswfilllittlenotlenorlongrememberwhatwesayherebutitcanneverforgetwhattheydidhereItisforusthelivingrathertobededicatedheretotheulnfinishedworkwhichtheywhofoughtherehavethusfarsonoblyadvancedItisratherforustobeherededicatedtothegreattdafskremainingbeforeusthatfromthesehonoreddeadwetakeincreaseddevotiontothatcauseforwhichtheygavethelastpfullmeasureofdevotionthatweherehighlyresolvethatthesedeadshallnothavediedinvainthatthisnationunsderGodshallhaveanewbirthoffreedomandthatgovernmentofthepeoplebythepeopleforthepeopleshallnotperishfromtheearth\"\n",
        "longestPalindrome(s)\n",
        "print(len(s))"
      ],
      "metadata": {
        "colab": {
          "base_uri": "https://localhost:8080/"
        },
        "id": "NEcuq_QTZFys",
        "outputId": "45e67b3a-d7c1-46d2-a0b9-953070a510b4"
      },
      "execution_count": null,
      "outputs": [
        {
          "output_type": "stream",
          "name": "stdout",
          "text": [
            "999\n"
          ]
        }
      ]
    },
    {
      "cell_type": "code",
      "source": [
        "\n",
        "from collections import Counter\n",
        "\n",
        "x = Counter(\"geeksforgeeks\")\n",
        "print(x)\n",
        "for i in x.elements():\n",
        "\tprint ( i, end = \" \")\n"
      ],
      "metadata": {
        "colab": {
          "base_uri": "https://localhost:8080/"
        },
        "id": "j5jjjkvKZMfY",
        "outputId": "ef99f7f1-1759-45fd-ae41-885a75fc7bc5"
      },
      "execution_count": null,
      "outputs": [
        {
          "output_type": "stream",
          "name": "stdout",
          "text": [
            "Counter({'e': 4, 'g': 2, 'k': 2, 's': 2, 'f': 1, 'o': 1, 'r': 1})\n",
            "g g e e e e k k s s f o r "
          ]
        }
      ]
    },
    {
      "cell_type": "code",
      "source": [
        "def firstUniqueChar(s):\n",
        "    from collections import Counter\n",
        "    count = Counter(s)\n",
        "    for i , j in enumerate(s):\n",
        "        if count[j] == 1:\n",
        "            return i\n",
        "    else:\n",
        "        return -1"
      ],
      "metadata": {
        "id": "39xx4XuHmHIk"
      },
      "execution_count": null,
      "outputs": []
    },
    {
      "cell_type": "code",
      "source": [
        "def firstU(s):\n",
        "    frequency = {}\n",
        "    for i in s:\n",
        "        if i not in frequency:\n",
        "            frequency[i] = 1\n",
        "        else:\n",
        "            frequency[i] +=1\n",
        "    for i in range(len(s)):\n",
        "        if frequency[s[i]] == 1:\n",
        "            return i+1\n",
        "    return -1"
      ],
      "metadata": {
        "id": "SPzqu281JlIa"
      },
      "execution_count": null,
      "outputs": []
    },
    {
      "cell_type": "code",
      "source": [
        "def print_factors(x):\n",
        "    arr=[]\n",
        "    for i in range(1, x + 1):\n",
        "       if x % i == 0:\n",
        "           arr.append(i)\n",
        "        #    print(i)\n"
      ],
      "metadata": {
        "id": "Ovyb1J-3LLtm"
      },
      "execution_count": null,
      "outputs": []
    },
    {
      "cell_type": "code",
      "source": [
        "s=\"aniana\"\n",
        "firstU(s)"
      ],
      "metadata": {
        "colab": {
          "base_uri": "https://localhost:8080/"
        },
        "id": "NECLqJydLiww",
        "outputId": "429d6002-4bf7-44f6-9bca-3a7d9e3792c2"
      },
      "execution_count": null,
      "outputs": [
        {
          "output_type": "execute_result",
          "data": {
            "text/plain": [
              "3"
            ]
          },
          "metadata": {},
          "execution_count": 6
        }
      ]
    },
    {
      "cell_type": "code",
      "source": [
        "def maxSubjectsNumber(answered,needed,q):\n",
        "    diff=[]\n",
        "    pas=0\n",
        "    for i in range(len(needed)):\n",
        "        if needed[i]-answered[i]>0:\n",
        "            diff.append(needed[i]-answered[i])\n",
        "        else:\n",
        "            diff.append(0)\n",
        "            # pas+=1\n",
        "    diff.sort()\n",
        "    for i in range(len(diff)):\n",
        "        if diff[i]<=q:\n",
        "            q=q-diff[i]\n",
        "            pas+=1\n",
        "        else:\n",
        "            break\n",
        "    return pas"
      ],
      "metadata": {
        "id": "DKN9fRA_QzZY"
      },
      "execution_count": null,
      "outputs": []
    },
    {
      "cell_type": "code",
      "source": [
        "answered=[24,27,0]\n",
        "needed=[51,52,100]\n",
        "q=200\n",
        "maxSubjectsNumber(answered,needed,q)"
      ],
      "metadata": {
        "colab": {
          "base_uri": "https://localhost:8080/"
        },
        "id": "YnzAs0pf0zrX",
        "outputId": "84a25b60-5483-42e3-8e0f-3a96a57df747"
      },
      "execution_count": null,
      "outputs": [
        {
          "output_type": "execute_result",
          "data": {
            "text/plain": [
              "3"
            ]
          },
          "metadata": {},
          "execution_count": 6
        }
      ]
    },
    {
      "cell_type": "code",
      "source": [
        "def fn(arr):\n",
        "    ans = []\n",
        "    for c in arr:\n",
        "        ans.append(c)\n",
        "\n",
        "    return \"\".join(ans)"
      ],
      "metadata": {
        "id": "mA8Ny-Ck1Drp"
      },
      "execution_count": null,
      "outputs": []
    },
    {
      "cell_type": "code",
      "source": [
        "arr=[\"ani\",\"yad\",\"of\",\"a\"]\n",
        "fn(arr)"
      ],
      "metadata": {
        "colab": {
          "base_uri": "https://localhost:8080/",
          "height": 35
        },
        "id": "_EsHr_pcfMKR",
        "outputId": "30110152-d537-47be-b6f1-7af3d2374e41"
      },
      "execution_count": null,
      "outputs": [
        {
          "output_type": "execute_result",
          "data": {
            "text/plain": [
              "'aniyadofa'"
            ],
            "application/vnd.google.colaboratory.intrinsic+json": {
              "type": "string"
            }
          },
          "metadata": {},
          "execution_count": 5
        }
      ]
    },
    {
      "cell_type": "markdown",
      "source": [],
      "metadata": {
        "id": "KW0VwUiLLgYY"
      }
    },
    {
      "cell_type": "markdown",
      "source": [
        "##Dynamic Programming (Leetcode)"
      ],
      "metadata": {
        "id": "zMT98_aAfXKo"
      }
    },
    {
      "cell_type": "markdown",
      "source": [
        "###198. House Robber\n",
        "You are a professional robber planning to rob houses along a street. Each house has a certain amount of money stashed, the only constraint stopping you from robbing each of them is that adjacent houses have security systems connected and it will automatically contact the police if two adjacent houses were broken into on the same night.\n",
        "\n",
        "Given an integer array nums representing the amount of money of each house, return the maximum amount of money you can rob tonight without alerting the police.\n",
        "\n",
        "\n",
        "\n",
        "Example 1:\n",
        "\n",
        "Input: nums = [1,2,3,1]\n",
        "Output: 4\n",
        "Explanation: Rob house 1 (money = 1) and then rob house 3 (money = 3).\n",
        "Total amount you can rob = 1 + 3 = 4.\n"
      ],
      "metadata": {
        "id": "wk67BgTwsg2F"
      }
    },
    {
      "cell_type": "code",
      "source": [
        "class Solution:\n",
        "    def rob(self, nums) :\n",
        "        n=len(nums)\n",
        "        dp = [0] * (n + 1)\n",
        "        if len(nums)==3:\n",
        "            return max(nums[0]+nums[2],nums[1])\n",
        "        if len(nums)==2:\n",
        "            return max(nums[0],nums[1])\n",
        "        if len(nums)==1:\n",
        "            return nums[0]\n",
        "        dp[0] = nums[0]\n",
        "        dp[1] = nums[1]\n",
        "        dp[2] = nums[2]+nums[0]\n",
        "        for i in range(3, n ):\n",
        "            dp[i] = max(dp[i - 1], max(dp[i-3],dp[i-2])+nums[i])\n",
        "\n",
        "        return dp[n-1]"
      ],
      "metadata": {
        "id": "SH9ByONpsuD4"
      },
      "execution_count": null,
      "outputs": []
    },
    {
      "cell_type": "code",
      "source": [
        "dp=[0]*3\n",
        "dp=[dp]*4\n",
        "print(dp)\n",
        "dp[]"
      ],
      "metadata": {
        "id": "YH4APV9Qs0aM",
        "colab": {
          "base_uri": "https://localhost:8080/"
        },
        "outputId": "5c211fe6-1925-4e48-a5c8-572f31c272e4"
      },
      "execution_count": null,
      "outputs": [
        {
          "output_type": "stream",
          "name": "stdout",
          "text": [
            "[[0, 0, 0], [0, 0, 0], [0, 0, 0], [0, 0, 0]]\n"
          ]
        }
      ]
    },
    {
      "cell_type": "code",
      "source": [
        "\n",
        "def uniquePaths(m, n) :\n",
        "    dp=[0]*m\n",
        "    dp=[dp]*n\n",
        "    for i in range(n):\n",
        "        for j in range(m):\n",
        "            if i==0 or j==0:\n",
        "                print(dp)\n",
        "                dp[i][j]=1\n",
        "                print(dp[i][j],\"dpij\")\n",
        "                print(dp)\n",
        "    for i in range(n):\n",
        "        for j in range(m):\n",
        "            if i!=0 and j!=0:\n",
        "                dp[i][j]=dp[i-1][j]+dp[i][j-1]\n",
        "    print(dp)\n",
        "    return dp[n-1][m-1]"
      ],
      "metadata": {
        "id": "O75jTFFbNEFp"
      },
      "execution_count": null,
      "outputs": []
    },
    {
      "cell_type": "code",
      "source": [
        "uniquePaths(3,7)"
      ],
      "metadata": {
        "colab": {
          "base_uri": "https://localhost:8080/"
        },
        "id": "J57ZLV2_NrMf",
        "outputId": "91f70bbb-ab3e-4a01-c424-5b6aecfe24ba"
      },
      "execution_count": null,
      "outputs": [
        {
          "output_type": "stream",
          "name": "stdout",
          "text": [
            "[[0, 0, 0], [0, 0, 0], [0, 0, 0], [0, 0, 0], [0, 0, 0], [0, 0, 0], [0, 0, 0]]\n",
            "1 dpij\n",
            "[[1, 0, 0], [1, 0, 0], [1, 0, 0], [1, 0, 0], [1, 0, 0], [1, 0, 0], [1, 0, 0]]\n",
            "[[1, 0, 0], [1, 0, 0], [1, 0, 0], [1, 0, 0], [1, 0, 0], [1, 0, 0], [1, 0, 0]]\n",
            "1 dpij\n",
            "[[1, 1, 0], [1, 1, 0], [1, 1, 0], [1, 1, 0], [1, 1, 0], [1, 1, 0], [1, 1, 0]]\n",
            "[[1, 1, 0], [1, 1, 0], [1, 1, 0], [1, 1, 0], [1, 1, 0], [1, 1, 0], [1, 1, 0]]\n",
            "1 dpij\n",
            "[[1, 1, 1], [1, 1, 1], [1, 1, 1], [1, 1, 1], [1, 1, 1], [1, 1, 1], [1, 1, 1]]\n",
            "[[1, 1, 1], [1, 1, 1], [1, 1, 1], [1, 1, 1], [1, 1, 1], [1, 1, 1], [1, 1, 1]]\n",
            "1 dpij\n",
            "[[1, 1, 1], [1, 1, 1], [1, 1, 1], [1, 1, 1], [1, 1, 1], [1, 1, 1], [1, 1, 1]]\n",
            "[[1, 1, 1], [1, 1, 1], [1, 1, 1], [1, 1, 1], [1, 1, 1], [1, 1, 1], [1, 1, 1]]\n",
            "1 dpij\n",
            "[[1, 1, 1], [1, 1, 1], [1, 1, 1], [1, 1, 1], [1, 1, 1], [1, 1, 1], [1, 1, 1]]\n",
            "[[1, 1, 1], [1, 1, 1], [1, 1, 1], [1, 1, 1], [1, 1, 1], [1, 1, 1], [1, 1, 1]]\n",
            "1 dpij\n",
            "[[1, 1, 1], [1, 1, 1], [1, 1, 1], [1, 1, 1], [1, 1, 1], [1, 1, 1], [1, 1, 1]]\n",
            "[[1, 1, 1], [1, 1, 1], [1, 1, 1], [1, 1, 1], [1, 1, 1], [1, 1, 1], [1, 1, 1]]\n",
            "1 dpij\n",
            "[[1, 1, 1], [1, 1, 1], [1, 1, 1], [1, 1, 1], [1, 1, 1], [1, 1, 1], [1, 1, 1]]\n",
            "[[1, 1, 1], [1, 1, 1], [1, 1, 1], [1, 1, 1], [1, 1, 1], [1, 1, 1], [1, 1, 1]]\n",
            "1 dpij\n",
            "[[1, 1, 1], [1, 1, 1], [1, 1, 1], [1, 1, 1], [1, 1, 1], [1, 1, 1], [1, 1, 1]]\n",
            "[[1, 1, 1], [1, 1, 1], [1, 1, 1], [1, 1, 1], [1, 1, 1], [1, 1, 1], [1, 1, 1]]\n",
            "1 dpij\n",
            "[[1, 1, 1], [1, 1, 1], [1, 1, 1], [1, 1, 1], [1, 1, 1], [1, 1, 1], [1, 1, 1]]\n",
            "[[1, 7, 28], [1, 7, 28], [1, 7, 28], [1, 7, 28], [1, 7, 28], [1, 7, 28], [1, 7, 28]]\n"
          ]
        },
        {
          "output_type": "execute_result",
          "data": {
            "text/plain": [
              "28"
            ]
          },
          "metadata": {},
          "execution_count": 13
        }
      ]
    },
    {
      "cell_type": "code",
      "source": [
        " def uniquePathsWithObstacles( obstacleGrid):\n",
        "\n",
        "    m=len(obstacleGrid[0])\n",
        "    n=len(obstacleGrid)\n",
        "    if obstacleGrid[0][0]==1 or obstacleGrid[n-1][m-1]==1:\n",
        "        return 0\n",
        "    dp=[0]*m\n",
        "    dp=[dp]*n\n",
        "    c=0\n",
        "    for i in range(n):\n",
        "        for j in range(m):\n",
        "            print(dp)\n",
        "            if i==0 or j==0:\n",
        "                if obstacleGrid[i][j]==0:\n",
        "                    c+=1\n",
        "                    print(c)\n",
        "                    print(dp,\"before\")\n",
        "                    print(dp[i][j],\"dpij\")\n",
        "                    dp[i][j]=1\n",
        "                    print(dp,\"i---j\",i,\"---\",j,\"after\")\n",
        "    print(dp)\n",
        "    for i in range(n):\n",
        "        for j in range(m):\n",
        "            if i!=0 and j!=0 and obstacleGrid[i][j]==0:\n",
        "                dp[i][j]=dp[i-1][j]+dp[i][j-1]\n",
        "            elif i!=0 and j!=0 and obstacleGrid[i][j]!=0:\n",
        "                dp[i][j]=0\n",
        "    print(dp)\n",
        "    return dp[n-1][m-1]"
      ],
      "metadata": {
        "id": "2dGPQp3JNvXx"
      },
      "execution_count": null,
      "outputs": []
    },
    {
      "cell_type": "code",
      "source": [
        "obstacleGrid =[[0,0],[1,0]]\n",
        "uniquePathsWithObstacles(obstacleGrid)\n"
      ],
      "metadata": {
        "colab": {
          "base_uri": "https://localhost:8080/"
        },
        "id": "e6-r9ZMG6Ali",
        "outputId": "5497252d-7b98-4d02-fd1a-dbf7a824d116"
      },
      "execution_count": null,
      "outputs": [
        {
          "output_type": "stream",
          "name": "stdout",
          "text": [
            "[[0, 0], [0, 0]]\n",
            "1\n",
            "[[0, 0], [0, 0]] before\n",
            "0 dpij\n",
            "[[1, 0], [1, 0]] i---j 0 --- 0 after\n",
            "[[1, 0], [1, 0]]\n",
            "2\n",
            "[[1, 0], [1, 0]] before\n",
            "0 dpij\n",
            "[[1, 1], [1, 1]] i---j 0 --- 1 after\n",
            "[[1, 1], [1, 1]]\n",
            "[[1, 1], [1, 1]]\n",
            "[[1, 1], [1, 1]]\n",
            "[[1, 2], [1, 2]]\n"
          ]
        },
        {
          "output_type": "execute_result",
          "data": {
            "text/plain": [
              "2"
            ]
          },
          "metadata": {},
          "execution_count": 29
        }
      ]
    },
    {
      "cell_type": "code",
      "source": [
        "# Print length of longest common subsequence\n",
        "def longestCommonSubsequence(text1, text2) :\n",
        "    # t=[0]*(len(text1)+1)\n",
        "    # dp=[t]*(len(text2)+1)\n",
        "    s1=text1\n",
        "    s2=text2\n",
        "    n, m = len(s1), len(s2)\n",
        "\n",
        "    dp = [[0 for i in range(m + 1)] for j in range(n + 1)]\n",
        "    print(dp)\n",
        "    for i in range(1,len(text1)+1):\n",
        "        for j in range(1,len(text2)+1):\n",
        "            # if i==0 or j==0:\n",
        "            #     dp[j][i]=0\n",
        "            # else:\n",
        "            if text1[i-1]==text2[j-1]:\n",
        "                dp[i][j]=dp[i-1][j-1]+1\n",
        "            else:\n",
        "                dp[i][j]=max(dp[i-1][j],dp[i][j-1])\n",
        "    print(dp)\n",
        "    return dp[len(text1)][len(text2)]"
      ],
      "metadata": {
        "id": "cfoY7mpI6MYi"
      },
      "execution_count": null,
      "outputs": []
    },
    {
      "cell_type": "code",
      "source": [
        "t=\"ezupkr\"\n",
        "s=\"ubmrapg\"\n",
        "longestCommonSubsequence(t,s)"
      ],
      "metadata": {
        "colab": {
          "base_uri": "https://localhost:8080/"
        },
        "id": "7MQweKmWlZvV",
        "outputId": "e81d7a86-0615-46e6-aa60-9024593e2fb2"
      },
      "execution_count": null,
      "outputs": [
        {
          "output_type": "stream",
          "name": "stdout",
          "text": [
            "[[0, 0, 0, 0, 0, 0, 0, 0], [0, 0, 0, 0, 0, 0, 0, 0], [0, 0, 0, 0, 0, 0, 0, 0], [0, 0, 0, 0, 0, 0, 0, 0], [0, 0, 0, 0, 0, 0, 0, 0], [0, 0, 0, 0, 0, 0, 0, 0], [0, 0, 0, 0, 0, 0, 0, 0]]\n",
            "[[0, 0, 0, 0, 0, 0, 0, 0], [0, 0, 0, 0, 0, 0, 0, 0], [0, 0, 0, 0, 0, 0, 0, 0], [0, 1, 1, 1, 1, 1, 1, 1], [0, 1, 1, 1, 1, 1, 2, 2], [0, 1, 1, 1, 1, 1, 2, 2], [0, 1, 1, 1, 2, 2, 2, 2]]\n"
          ]
        },
        {
          "output_type": "execute_result",
          "data": {
            "text/plain": [
              "2"
            ]
          },
          "metadata": {},
          "execution_count": 29
        }
      ]
    },
    {
      "cell_type": "code",
      "source": [
        "# Print the longest common subsequence\n",
        "def longestCommonSubsequence(text1, text2) :\n",
        "    s1=text1\n",
        "    s2=text2\n",
        "    n, m = len(s1), len(s2)\n",
        "    ans=''\n",
        "    dp = [[0 for i in range(m + 1)] for j in range(n + 1)]\n",
        "    # print(dp)\n",
        "    for i in range(1,len(text1)+1):\n",
        "        for j in range(1,len(text2)+1):\n",
        "            if text1[i-1]==text2[j-1]:\n",
        "                dp[i][j]=dp[i-1][j-1]+1\n",
        "                ans=ans+text1[i-1]\n",
        "            else:\n",
        "                dp[i][j]=max(dp[i-1][j],dp[i][j-1])\n",
        "    # print(dp)\n",
        "    return ans"
      ],
      "metadata": {
        "id": "p9aPpGu-nNt2"
      },
      "execution_count": null,
      "outputs": []
    },
    {
      "cell_type": "code",
      "source": [
        "t=\"ezupkr\"\n",
        "s=\"ubmrapg\"\n",
        "longestCommonSubsequence(t,s)"
      ],
      "metadata": {
        "id": "0UqGpLef8Agf",
        "outputId": "c38df69d-2e45-4efb-a6e8-6f00a52457d5",
        "colab": {
          "base_uri": "https://localhost:8080/",
          "height": 35
        }
      },
      "execution_count": null,
      "outputs": [
        {
          "output_type": "execute_result",
          "data": {
            "text/plain": [
              "'upr'"
            ],
            "application/vnd.google.colaboratory.intrinsic+json": {
              "type": "string"
            }
          },
          "metadata": {},
          "execution_count": 32
        }
      ]
    },
    {
      "cell_type": "code",
      "source": [
        "import math\n",
        "int(math.sqrt(8))"
      ],
      "metadata": {
        "id": "GP0lIDbY8GRM",
        "colab": {
          "base_uri": "https://localhost:8080/"
        },
        "outputId": "f3690ea7-71bc-46c5-c235-4dff92e0da92"
      },
      "execution_count": null,
      "outputs": [
        {
          "output_type": "execute_result",
          "data": {
            "text/plain": [
              "2"
            ]
          },
          "metadata": {},
          "execution_count": 7
        }
      ]
    },
    {
      "cell_type": "code",
      "source": [
        "def solve(i, points, questions):\n",
        "    print(\"i---\",i)\n",
        "    print(\"Points---\",points)\n",
        "    if i>=len(questions):\n",
        "        return points\n",
        "    else:\n",
        "        return max(questions[i][0]+solve(questions[i][1]+1,points+questions[i][0],questions),solve(i+1,points,questions))\n",
        "\n",
        "def mostPoints(questions) :\n",
        "    points=0\n",
        "    i=0\n",
        "    return solve(0,points,questions)"
      ],
      "metadata": {
        "id": "sxkQNn2W_gmS"
      },
      "execution_count": null,
      "outputs": []
    },
    {
      "cell_type": "code",
      "source": [
        "questions =[[3,2],[4,3],[4,4],[2,5]]\n",
        "mostPoints(questions)"
      ],
      "metadata": {
        "colab": {
          "base_uri": "https://localhost:8080/"
        },
        "id": "4nDa2GwHLj3R",
        "outputId": "716cdb27-6f38-4874-edcc-d58b98dc32ad"
      },
      "execution_count": null,
      "outputs": [
        {
          "output_type": "stream",
          "name": "stdout",
          "text": [
            "i--- 0\n",
            "Points--- 0\n",
            "i--- 3\n",
            "Points--- 3\n",
            "i--- 6\n",
            "Points--- 5\n",
            "i--- 4\n",
            "Points--- 3\n",
            "i--- 1\n",
            "Points--- 0\n",
            "i--- 4\n",
            "Points--- 4\n",
            "i--- 2\n",
            "Points--- 0\n",
            "i--- 5\n",
            "Points--- 4\n",
            "i--- 3\n",
            "Points--- 0\n",
            "i--- 6\n",
            "Points--- 2\n",
            "i--- 4\n",
            "Points--- 0\n"
          ]
        },
        {
          "output_type": "execute_result",
          "data": {
            "text/plain": [
              "10"
            ]
          },
          "metadata": {},
          "execution_count": 11
        }
      ]
    },
    {
      "cell_type": "code",
      "source": [
        "a=[1,6,2,7]"
      ],
      "metadata": {
        "id": "Sbk1pRW03DXy"
      },
      "execution_count": null,
      "outputs": []
    },
    {
      "cell_type": "code",
      "source": [
        "a.sort()\n",
        "print(a)"
      ],
      "metadata": {
        "colab": {
          "base_uri": "https://localhost:8080/"
        },
        "id": "-np_5wB41LwE",
        "outputId": "bd6f47ba-800e-4df1-c8c4-2f75bc025b5b"
      },
      "execution_count": null,
      "outputs": [
        {
          "output_type": "stream",
          "name": "stdout",
          "text": [
            "[1, 2, 6, 7]\n"
          ]
        }
      ]
    },
    {
      "cell_type": "code",
      "source": [
        "    def count(dp,sum,n,coins):\n",
        "        if dp[sum]!=-1:\n",
        "            return dp[sum]\n",
        "        if (sum == 0):\n",
        "            dp[0]=1\n",
        "            return 1\n",
        "        if (sum < 0):\n",
        "            return 0\n",
        "        if (n <= 0):\n",
        "            return 0\n",
        "        dp[sum]=count(dp,sum,n-1,coins) + count(dp,sum-coins[n-1],n,coins)\n",
        "        return dp[sum]\n",
        "\n",
        "    def solve(dp, i, j,coins):\n",
        "        if i==0 or j==len(coins):\n",
        "            return 0\n",
        "        elif i>j:\n",
        "            return min(1+solve(dp, i-coins[j], j,coins),solve(dp,i,j+1,coins))\n",
        "        else:\n",
        "            return solve(dp, i, j+1,coins)\n",
        "    def coinChange(coins, amount):\n",
        "        coins.sort()\n",
        "        coins.reverse()\n",
        "        dp=[1000]*(amount+1)\n",
        "        return count(dp,amount,len(coins),coins)\n"
      ],
      "metadata": {
        "id": "HWmTs6CX_7ym"
      },
      "execution_count": null,
      "outputs": []
    },
    {
      "cell_type": "code",
      "source": [
        "coins=[1,2,5]\n",
        "amount=11\n",
        "coinChange(coins,amount)"
      ],
      "metadata": {
        "colab": {
          "base_uri": "https://localhost:8080/"
        },
        "id": "kDKz7SErqBAr",
        "outputId": "ec19c511-e00a-4a28-c78d-60e6bbf177a1"
      },
      "execution_count": null,
      "outputs": [
        {
          "output_type": "execute_result",
          "data": {
            "text/plain": [
              "1000"
            ]
          },
          "metadata": {},
          "execution_count": 11
        }
      ]
    },
    {
      "cell_type": "code",
      "source": [
        "from collections import deque\n",
        "q = deque()\n",
        "q.append(\"a\")\n"
      ],
      "metadata": {
        "id": "dqJjfQhcqJKA"
      },
      "execution_count": null,
      "outputs": []
    },
    {
      "cell_type": "code",
      "source": [
        "q"
      ],
      "metadata": {
        "colab": {
          "base_uri": "https://localhost:8080/"
        },
        "id": "XxOyqFdt9mfM",
        "outputId": "4fadb81a-612c-4eab-ba69-8fabe9e25ef0"
      },
      "execution_count": null,
      "outputs": [
        {
          "output_type": "execute_result",
          "data": {
            "text/plain": [
              "deque(['a'])"
            ]
          },
          "metadata": {},
          "execution_count": 2
        }
      ]
    },
    {
      "cell_type": "code",
      "source": [
        "q.append('b')\n",
        "q"
      ],
      "metadata": {
        "colab": {
          "base_uri": "https://localhost:8080/"
        },
        "id": "hIOK7Aw99tcf",
        "outputId": "90eb7ebb-7a79-4487-9ba3-53ff5db06dcc"
      },
      "execution_count": null,
      "outputs": [
        {
          "output_type": "execute_result",
          "data": {
            "text/plain": [
              "deque(['a', 'b', 'b'])"
            ]
          },
          "metadata": {},
          "execution_count": 4
        }
      ]
    },
    {
      "cell_type": "code",
      "source": [
        "bool(q) #to check if queue generated from collections.deque is empty"
      ],
      "metadata": {
        "id": "K7hcR-P093wr",
        "colab": {
          "base_uri": "https://localhost:8080/"
        },
        "outputId": "b1a3a89c-7765-4401-f65b-d94c9c08b9f8"
      },
      "execution_count": null,
      "outputs": [
        {
          "output_type": "execute_result",
          "data": {
            "text/plain": [
              "True"
            ]
          },
          "metadata": {},
          "execution_count": 6
        }
      ]
    },
    {
      "cell_type": "code",
      "source": [
        "len(q)"
      ],
      "metadata": {
        "colab": {
          "base_uri": "https://localhost:8080/"
        },
        "id": "h5EXXBFPQvU1",
        "outputId": "092b27e0-9a7c-4ce3-8cc0-ee838b985b03"
      },
      "execution_count": null,
      "outputs": [
        {
          "output_type": "execute_result",
          "data": {
            "text/plain": [
              "3"
            ]
          },
          "metadata": {},
          "execution_count": 8
        }
      ]
    },
    {
      "cell_type": "code",
      "source": [
        "a=[1,3,4,2]\n",
        "for i in range(len(a)-1,-1,-1):\n",
        "    print(a[i])\n",
        "# print(a)"
      ],
      "metadata": {
        "colab": {
          "base_uri": "https://localhost:8080/"
        },
        "id": "-Al5ZLMgR4z9",
        "outputId": "dbed42bb-5f93-4880-e66e-a0ab155bc5f2"
      },
      "execution_count": null,
      "outputs": [
        {
          "output_type": "stream",
          "name": "stdout",
          "text": [
            "2\n",
            "4\n",
            "3\n",
            "1\n"
          ]
        }
      ]
    },
    {
      "cell_type": "code",
      "source": [
        "def ispar(x):\n",
        "    stack=[]\n",
        "    for i in x:\n",
        "        if i in '{([':\n",
        "            stack.append(i)\n",
        "        elif len(stack)==0:\n",
        "            return False\n",
        "        else:\n",
        "            if stack[len(stack)-1]=='[' and i==']':\n",
        "                stack.pop()\n",
        "            elif stack[len(stack)-1]=='{' and i=='}':\n",
        "                stack.pop()\n",
        "            elif stack[len(stack)-1]=='(' and i==')':\n",
        "                stack.pop()\n",
        "            elif stack[len(stack)-1]=='{' and i in '([':\n",
        "                return False\n",
        "            elif stack[len(stack)-1]=='[' and i in '({':\n",
        "                return False\n",
        "            elif stack[len(stack)-1]=='(' and i in '{[':\n",
        "                return False\n",
        "    if len(stack)!=0:\n",
        "        return False\n",
        "    return True"
      ],
      "metadata": {
        "id": "XJ_WTUOUBiRh"
      },
      "execution_count": null,
      "outputs": []
    },
    {
      "cell_type": "code",
      "source": [
        "x='{([])}'\n",
        "ispar(x)"
      ],
      "metadata": {
        "colab": {
          "base_uri": "https://localhost:8080/"
        },
        "id": "nfguJc1iF7FW",
        "outputId": "f1569138-1d2b-4d3b-fb13-43712664ebcb"
      },
      "execution_count": null,
      "outputs": [
        {
          "output_type": "execute_result",
          "data": {
            "text/plain": [
              "True"
            ]
          },
          "metadata": {},
          "execution_count": 51
        }
      ]
    },
    {
      "cell_type": "code",
      "source": [
        "stack=[0,9,3,4]\n",
        "print(len(stack))"
      ],
      "metadata": {
        "colab": {
          "base_uri": "https://localhost:8080/"
        },
        "id": "Pmp5_HTDF-4W",
        "outputId": "23882890-a4db-44bd-a87c-45d862071699"
      },
      "execution_count": null,
      "outputs": [
        {
          "output_type": "stream",
          "name": "stdout",
          "text": [
            "4\n"
          ]
        }
      ]
    },
    {
      "cell_type": "code",
      "source": [
        "t=stack.pop()\n",
        "print(t)"
      ],
      "metadata": {
        "colab": {
          "base_uri": "https://localhost:8080/"
        },
        "id": "wiIa_hZOQQqu",
        "outputId": "733ed122-c912-4322-bb63-12e6dd0c55b6"
      },
      "execution_count": null,
      "outputs": [
        {
          "output_type": "stream",
          "name": "stdout",
          "text": [
            "4\n"
          ]
        }
      ]
    },
    {
      "cell_type": "code",
      "source": [
        "print(stack[::-1])\n",
        "print(s)"
      ],
      "metadata": {
        "colab": {
          "base_uri": "https://localhost:8080/"
        },
        "id": "_eVk2LzeQhwI",
        "outputId": "9021deb0-850e-4971-a446-7c081d13134f"
      },
      "execution_count": null,
      "outputs": [
        {
          "output_type": "stream",
          "name": "stdout",
          "text": [
            "[3, 9, 0]\n",
            "[3, 9, 0]\n"
          ]
        }
      ]
    },
    {
      "cell_type": "code",
      "source": [
        "def check(mid,arr):\n",
        "    if mid==0 and arr[mid]<arr[mid+1]:\n",
        "        return True\n",
        "    elif mid==len(arr)-1 and arr[mid]>arr[mid-1]:\n",
        "        return True\n",
        "    elif arr[mid]<arr[mid-1] and arr[mid]<arr[mid+1]:\n",
        "        return True\n",
        "    else:\n",
        "        return False\n",
        "\n",
        "def split(st,end,arr):\n",
        "    while(st<=end):\n",
        "        mid=st+(end-st)//2\n",
        "        if check(mid,arr):\n",
        "            return mid\n",
        "        elif arr[mid]>st:\n",
        "            st=mid+1\n",
        "        elif arr[mid]<end:\n",
        "            end=mid-1\n",
        "    return 0"
      ],
      "metadata": {
        "id": "9_8Oj39yfCHt"
      },
      "execution_count": null,
      "outputs": []
    },
    {
      "cell_type": "code",
      "source": [
        "A = [5,6,7,8,9,10,1,2,3]\n",
        "print(split(0,len(A)-1,A))"
      ],
      "metadata": {
        "colab": {
          "base_uri": "https://localhost:8080/"
        },
        "id": "JsLgsUhbq7ot",
        "outputId": "45a3f9c9-5b09-4e77-af61-301f2398ed90"
      },
      "execution_count": null,
      "outputs": [
        {
          "output_type": "stream",
          "name": "stdout",
          "text": [
            "6\n"
          ]
        }
      ]
    },
    {
      "cell_type": "code",
      "source": [
        "def check(mid,arr):\n",
        "    if mid==0 and arr[mid]<arr[mid+1]:\n",
        "        return True\n",
        "    elif mid==len(arr)-1 and arr[mid]>arr[mid-1]:\n",
        "        return True\n",
        "    elif arr[mid]<arr[mid-1] and arr[mid]<arr[mid+1]:\n",
        "        return True\n",
        "    else:\n",
        "        return False\n",
        "\n",
        "def binary(st,end,arr,k):\n",
        "    while(st<=end):\n",
        "        mid=st+(end-st)//2\n",
        "        if arr[mid]==k:\n",
        "            return mid\n",
        "        elif arr[mid]>k:\n",
        "            en=mid-1\n",
        "        else:\n",
        "            st=mid+1\n",
        "    return -1\n",
        "\n",
        "def split(st,end,arr):\n",
        "    while(st<=end):\n",
        "        mid=st+(end-st)//2\n",
        "        if check(mid,arr):\n",
        "            return mid\n",
        "        elif arr[mid]>st:\n",
        "            st=mid+1\n",
        "        elif arr[mid]<end:\n",
        "            end=mid-1\n",
        "    return 0\n",
        "\n",
        "arr = [3,1,2]\n",
        "k=3\n",
        "t=split(0,len(arr)-1,arr)\n",
        "print(t)\n",
        "A=binary(0,t-1,arr,k)\n",
        "B=binary(t+1,len(arr)-1,arr,k)\n",
        "\n",
        "print([A,B])"
      ],
      "metadata": {
        "colab": {
          "base_uri": "https://localhost:8080/"
        },
        "id": "DDNhHPzHsLem",
        "outputId": "a62784b0-3d40-4a39-c929-4232932ddc39"
      },
      "execution_count": null,
      "outputs": [
        {
          "output_type": "stream",
          "name": "stdout",
          "text": [
            "1\n",
            "[0, -1]\n"
          ]
        }
      ]
    },
    {
      "cell_type": "code",
      "source": [
        "d={1:4,3:5}"
      ],
      "metadata": {
        "id": "ZDV1nSp2uiPJ"
      },
      "execution_count": null,
      "outputs": []
    },
    {
      "cell_type": "code",
      "source": [
        "d[1]=d[1]+1"
      ],
      "metadata": {
        "id": "fG8OHpOuQQfP"
      },
      "execution_count": null,
      "outputs": []
    },
    {
      "cell_type": "code",
      "source": [
        "d[1]"
      ],
      "metadata": {
        "colab": {
          "base_uri": "https://localhost:8080/"
        },
        "id": "Yw9_K7gKQVl7",
        "outputId": "1aa1fa39-2f05-48a9-8402-a3bc5b191bef"
      },
      "execution_count": null,
      "outputs": [
        {
          "output_type": "execute_result",
          "data": {
            "text/plain": [
              "5"
            ]
          },
          "metadata": {},
          "execution_count": 16
        }
      ]
    },
    {
      "cell_type": "code",
      "source": [
        "d[4]=d[4]+1"
      ],
      "metadata": {
        "colab": {
          "base_uri": "https://localhost:8080/",
          "height": 169
        },
        "id": "pZ5dmTLwQa8D",
        "outputId": "766ca543-e087-4676-ec44-1621d13f7fa7"
      },
      "execution_count": null,
      "outputs": [
        {
          "output_type": "error",
          "ename": "KeyError",
          "evalue": "ignored",
          "traceback": [
            "\u001b[0;31m---------------------------------------------------------------------------\u001b[0m",
            "\u001b[0;31mKeyError\u001b[0m                                  Traceback (most recent call last)",
            "\u001b[0;32m<ipython-input-17-337d7c161e96>\u001b[0m in \u001b[0;36m<cell line: 1>\u001b[0;34m()\u001b[0m\n\u001b[0;32m----> 1\u001b[0;31m \u001b[0md\u001b[0m\u001b[0;34m[\u001b[0m\u001b[0;36m4\u001b[0m\u001b[0;34m]\u001b[0m\u001b[0;34m=\u001b[0m\u001b[0md\u001b[0m\u001b[0;34m[\u001b[0m\u001b[0;36m4\u001b[0m\u001b[0;34m]\u001b[0m\u001b[0;34m+\u001b[0m\u001b[0;36m1\u001b[0m\u001b[0;34m\u001b[0m\u001b[0;34m\u001b[0m\u001b[0m\n\u001b[0m",
            "\u001b[0;31mKeyError\u001b[0m: 4"
          ]
        }
      ]
    },
    {
      "cell_type": "code",
      "source": [
        "class Node:\n",
        "    def __init__(self,val):\n",
        "        self.val=val\n",
        "        self.next=None"
      ],
      "metadata": {
        "id": "eEuxB4W8DooT"
      },
      "execution_count": null,
      "outputs": []
    },
    {
      "cell_type": "code",
      "source": [
        "def insert(n,L):\n",
        "    t=L\n",
        "    while(t.next!=None):\n",
        "        t=t.next\n",
        "    t.next=n\n",
        "    return L\n",
        "\n",
        "\n",
        "a=[2,3,6,6]\n",
        "head=Node(a[0])\n",
        "\n",
        "for i in range(1,len(a)):\n",
        "    n=Node(a[i])\n",
        "    head=insert(n,head)\n"
      ],
      "metadata": {
        "id": "q44TyMsAEA82"
      },
      "execution_count": null,
      "outputs": []
    },
    {
      "cell_type": "code",
      "source": [
        "t=head\n",
        "while(t!=None):\n",
        "    if t!=head:\n",
        "        print('->',end=\"\")\n",
        "    print(t.val,end=\"\")\n",
        "    t=t.next"
      ],
      "metadata": {
        "colab": {
          "base_uri": "https://localhost:8080/"
        },
        "id": "ZNh5EEuyFMOj",
        "outputId": "f28146dd-947e-4079-f9ff-60c288317d39"
      },
      "execution_count": null,
      "outputs": [
        {
          "output_type": "stream",
          "name": "stdout",
          "text": [
            "2->3->6->6"
          ]
        }
      ]
    },
    {
      "cell_type": "code",
      "source": [
        "from collections import deque\n",
        "def getmax(x):\n",
        "    print(x)\n",
        "    maxx=-1\n",
        "    for i in x:\n",
        "        if i>maxx:\n",
        "            maxx=i\n",
        "    return maxx\n",
        "\n",
        "def solve(arr, queries):\n",
        "\n",
        "    ans=[]\n",
        "    for j in queries:\n",
        "        minn=1000001\n",
        "        t=[]\n",
        "        x=deque()\n",
        "        for i in arr:\n",
        "            if len(x)>=j:\n",
        "                t.append(getmax(x))\n",
        "                x.popleft()\n",
        "                x.append(i)\n",
        "            else:\n",
        "                x.append(i)\n",
        "\n",
        "        t.append(getmax(x))\n",
        "        # t.append(getmax(x))\n",
        "        print(t)\n",
        "        for i in t:\n",
        "            if i<minn:\n",
        "                minn=i\n",
        "        ans.append(minn)\n",
        "    return ans\n",
        "\n"
      ],
      "metadata": {
        "id": "9y7_wTnyHhU5"
      },
      "execution_count": null,
      "outputs": []
    },
    {
      "cell_type": "code",
      "source": [
        "arr=[33,11,44,11,55]\n",
        "q=[1,2,3,4,5]\n",
        "solve(arr,q)"
      ],
      "metadata": {
        "colab": {
          "base_uri": "https://localhost:8080/"
        },
        "id": "6oIE4UxEDkjP",
        "outputId": "49f72290-00ad-44cf-c188-5ff7c0644bfd"
      },
      "execution_count": null,
      "outputs": [
        {
          "output_type": "stream",
          "name": "stdout",
          "text": [
            "deque([33])\n",
            "deque([11])\n",
            "deque([44])\n",
            "deque([11])\n",
            "deque([55])\n",
            "[33, 11, 44, 11, 55]\n",
            "deque([33, 11])\n",
            "deque([11, 44])\n",
            "deque([44, 11])\n",
            "deque([11, 55])\n",
            "[33, 44, 44, 55]\n",
            "deque([33, 11, 44])\n",
            "deque([11, 44, 11])\n",
            "deque([44, 11, 55])\n",
            "[44, 44, 55]\n",
            "deque([33, 11, 44, 11])\n",
            "deque([11, 44, 11, 55])\n",
            "[44, 55]\n",
            "deque([33, 11, 44, 11, 55])\n",
            "[55]\n"
          ]
        },
        {
          "output_type": "execute_result",
          "data": {
            "text/plain": [
              "[11, 33, 44, 44, 55]"
            ]
          },
          "metadata": {},
          "execution_count": 8
        }
      ]
    },
    {
      "cell_type": "code",
      "source": [
        "def poisonousPlants(p):\n",
        "    k=0\n",
        "    print(p)\n",
        "    p.reverse()\n",
        "    print(p)\n",
        "    while (p!=sorted(p)):\n",
        "        p2=[]\n",
        "        for i in range(len(p)-1):\n",
        "            if p[i]<p[i+1]:\n",
        "                p2.append(p[i])\n",
        "        p=p2\n",
        "        k=k+1\n",
        "    return k\n",
        "\n",
        "p=[1,4,2,6]\n",
        "poisonousPlants(p)"
      ],
      "metadata": {
        "colab": {
          "base_uri": "https://localhost:8080/"
        },
        "id": "Yxxy6zmmD17l",
        "outputId": "0c91be02-49fa-4f7c-e791-803fdd3878e4"
      },
      "execution_count": null,
      "outputs": [
        {
          "output_type": "stream",
          "name": "stdout",
          "text": [
            "[1, 4, 2, 6]\n",
            "[6, 2, 4, 1]\n"
          ]
        },
        {
          "output_type": "execute_result",
          "data": {
            "text/plain": [
              "1"
            ]
          },
          "metadata": {},
          "execution_count": 10
        }
      ]
    },
    {
      "cell_type": "code",
      "source": [
        "test_list = [1, 4, 5, 8, 10]\n",
        "\n",
        "# printing original list\n",
        "\n",
        "# using sorted() to\n",
        "# check sorted list\n",
        "flag = 0\n",
        "if(test_list == sorted(test_list)):\n",
        "    flag = 1\n",
        "\n",
        "# printing result\n",
        "if (flag) :\n",
        "    print (\"Yes, List is sorted.\")\n",
        "else :\n",
        "    print (\"No, List is not sorted.\")"
      ],
      "metadata": {
        "colab": {
          "base_uri": "https://localhost:8080/"
        },
        "id": "LVGqEH7zv4EK",
        "outputId": "60fc2e3f-f578-4677-bd49-083380fa42dc"
      },
      "execution_count": null,
      "outputs": [
        {
          "output_type": "stream",
          "name": "stdout",
          "text": [
            "Yes, List is sorted.\n"
          ]
        }
      ]
    },
    {
      "cell_type": "code",
      "source": [
        "    def isvalid(i,j,m):\n",
        "        if i>=0 and i<len(m) and j>=0 and j<len(m) :\n",
        "            return True\n",
        "        else:\n",
        "            return False\n",
        "    def solve(m,i,j,T,ans,s):\n",
        "        # if m[i][j]==0:\n",
        "        #     return\n",
        "        # print('a')\n",
        "        if i==len(m)-1 and j==len(m)-1:\n",
        "            ans.append(s)\n",
        "            return\n",
        "\n",
        "        if isvalid(i+1,j,m) and m[i+1][j]==1 and T[i+1][j]==0:\n",
        "            # s=s+'R'\n",
        "            T[i][j]=1\n",
        "            solve(m,i+1,j,T,ans,s+'R')\n",
        "            # s=s[:-1]\n",
        "\n",
        "            T[i][j]=0\n",
        "            # return\n",
        "        if isvalid(i-1,j,m) and m[i-1][j]==1 and T[i-1][j]==0:\n",
        "            # s=s+'L'\n",
        "            T[i][j]=1\n",
        "            solve(m,i-1,j,T,ans,s+'L')\n",
        "            # s=s[:-1]\n",
        "            # return\n",
        "            T[i][j]=0\n",
        "        if isvalid(i,j+1,m) and m[i][j+1]==1 and T[i][j+1]==0:\n",
        "            # s=s+'D'\n",
        "            T[i][j]=1\n",
        "            solve(m,i,j+1,T,ans,s+'D')\n",
        "            T[i][j]=0\n",
        "            # s=s[:-1]\n",
        "            # return\n",
        "        if isvalid(i,j-1,m) and m[i][j-1]==1 and T[i][j-1]==0:\n",
        "            # s=s+'U'\n",
        "            T[i][j]=1\n",
        "            solve(m,i,j-1,T,ans,s+'U')\n",
        "            T[i][j]=0\n",
        "            # s=s[:-1]\n",
        "            # return\n",
        "        # T[i][j]=0\n",
        "\n",
        "    ans =[]\n",
        "    m=[[1, 0, 0, 0],\n",
        "         [1, 1, 0, 1],\n",
        "         [1, 1, 0, 0],\n",
        "         [0, 1, 1, 1]]\n",
        "\n",
        "    T=[[0 for i in range(len(m))]for j in range(len(m))]\n",
        "    s=\"\"\n",
        "    if m[0][0]!=0:\n",
        "        solve(m,0,0,T, ans,s)\n",
        "    print(ans)"
      ],
      "metadata": {
        "colab": {
          "base_uri": "https://localhost:8080/"
        },
        "id": "yDe2VXzfwShN",
        "outputId": "b4b919fa-08fc-4212-c71b-60adacac4641"
      },
      "execution_count": null,
      "outputs": [
        {
          "output_type": "stream",
          "name": "stdout",
          "text": [
            "['RRDRDD', 'RDRRDD']\n"
          ]
        }
      ]
    },
    {
      "cell_type": "code",
      "source": [
        "for i in range(4):\n",
        "    print(i)\n",
        "    # if i==1:\n",
        "    #     break\n",
        "else:\n",
        "    print(8)"
      ],
      "metadata": {
        "colab": {
          "base_uri": "https://localhost:8080/"
        },
        "id": "U37-aIdV0OgJ",
        "outputId": "c9500a89-003b-49e0-ee12-517c0ceaa111"
      },
      "execution_count": null,
      "outputs": [
        {
          "output_type": "stream",
          "name": "stdout",
          "text": [
            "0\n",
            "1\n",
            "2\n",
            "3\n",
            "8\n"
          ]
        }
      ]
    },
    {
      "cell_type": "markdown",
      "source": [
        "#Graphs"
      ],
      "metadata": {
        "id": "3VUObSuElk8x"
      }
    },
    {
      "cell_type": "code",
      "source": [
        "# Graph representation\n",
        "ipt=[[0,1],[0,2],[0,3],[0,4],[1,3],[2,3],[2,4],[2,5],[3,5]]\n",
        "n=6\n",
        "# Adjacency Matrix\n",
        "graph=[[0 for i in range(n)]for i in range(n)]\n",
        "for [u,v] in ipt:\n",
        "    graph[u][v]=1\n",
        "    graph[v][u]=1\n",
        "print(graph)\n",
        "\n",
        "# Adjacency List\n",
        "graph=[[] for i in range(n)]\n",
        "for [u,v] in ipt:\n",
        "    graph[u].append(v)\n",
        "    graph[v].append(u)\n",
        "print(graph)\n"
      ],
      "metadata": {
        "colab": {
          "base_uri": "https://localhost:8080/"
        },
        "id": "IBzsNkITl4S1",
        "outputId": "a858828f-92a1-40ce-c15a-1c248ad0a4b3"
      },
      "execution_count": null,
      "outputs": [
        {
          "output_type": "stream",
          "name": "stdout",
          "text": [
            "[[0, 1, 1, 1, 1, 0], [1, 0, 0, 1, 0, 0], [1, 0, 0, 1, 1, 1], [1, 1, 1, 0, 0, 1], [1, 0, 1, 0, 0, 0], [0, 0, 1, 1, 0, 0]]\n",
            "[[1, 2, 3, 4], [0, 3], [0, 3, 4, 5], [0, 1, 2, 5], [0, 2], [2, 3]]\n"
          ]
        }
      ]
    },
    {
      "cell_type": "code",
      "source": [
        "#Depth First Search\n",
        "ipt=[[0,1],[0,2],[0,3],[0,4],[1,3],[2,3],[2,4]]\n",
        "def dfs(graph,visited,node):\n",
        "    print(node)\n",
        "    visited.append(node)\n",
        "    for child in graph[node]:\n",
        "        if child not in visited:\n",
        "            dfs(graph,visited,child)\n",
        "\n",
        "graph=[[] for i in range(6)]\n",
        "for [u,v] in ipt:\n",
        "    graph[u].append(v)\n",
        "    graph[v].append(u)\n",
        "\n",
        "visited=[]\n",
        "dfs(graph,visited,0)\n",
        "\n"
      ],
      "metadata": {
        "colab": {
          "base_uri": "https://localhost:8080/"
        },
        "id": "cDqrmzc1mab6",
        "outputId": "99045447-a32b-4482-cdfe-99974fa1bf2c"
      },
      "execution_count": null,
      "outputs": [
        {
          "output_type": "stream",
          "name": "stdout",
          "text": [
            "0\n",
            "1\n",
            "3\n",
            "2\n",
            "4\n"
          ]
        }
      ]
    },
    {
      "cell_type": "code",
      "source": [
        "#Connected Components\n",
        "visited=[]\n",
        "c=0\n",
        "for i in range(len(graph)):\n",
        "    if i not in visited:\n",
        "        dfs(graph,visited,i)\n",
        "        c+=1\n",
        "print(\"No. of Connected Components---->\",c)"
      ],
      "metadata": {
        "colab": {
          "base_uri": "https://localhost:8080/"
        },
        "id": "F3pkSrO4pV0O",
        "outputId": "e3706533-c1f8-49a4-b591-f1c03248b71d"
      },
      "execution_count": null,
      "outputs": [
        {
          "output_type": "stream",
          "name": "stdout",
          "text": [
            "0\n",
            "1\n",
            "3\n",
            "2\n",
            "4\n",
            "5\n",
            "No. of Connected Components----> 2\n"
          ]
        }
      ]
    },
    {
      "cell_type": "code",
      "source": [
        "#bipartite graph\n",
        "ipt=[[1,2],[2,4],[4,3],[3,1],[2,5],[4,5]]\n",
        "n=6\n",
        "\n",
        "def bipartite(graph,node,visited,color,c):\n",
        "    visited[node]=1\n",
        "    color[node]=c\n",
        "    for child in graph[node]:\n",
        "        if not visited[child]:\n",
        "            temp=bipartite(graph,child,visited,color,c^1)\n",
        "            if temp==False:\n",
        "                return False\n",
        "        elif color[child]==color[node]:\n",
        "            return False\n",
        "    return True\n",
        "\n",
        "graph=[[] for i in range(n)]\n",
        "for [u,v] in ipt:\n",
        "    graph[u].append(v)\n",
        "    graph[v].append(u)\n",
        "print(graph)\n",
        "visited=[0 for i in range(6)]\n",
        "color=[0 for i in range(6)]\n",
        "bipartite(graph,1,visited,color,0)"
      ],
      "metadata": {
        "colab": {
          "base_uri": "https://localhost:8080/"
        },
        "id": "6jWHNS7dHjKT",
        "outputId": "c55169e6-6a22-4486-c9cb-ec415d14e6d6"
      },
      "execution_count": null,
      "outputs": [
        {
          "output_type": "stream",
          "name": "stdout",
          "text": [
            "[[], [2, 3], [1, 4, 5], [4, 1], [2, 3, 5], [2, 4]]\n"
          ]
        },
        {
          "output_type": "execute_result",
          "data": {
            "text/plain": [
              "False"
            ]
          },
          "metadata": {},
          "execution_count": 8
        }
      ]
    },
    {
      "cell_type": "code",
      "source": [
        "def detectCycle(graph,visited,node,par):\n",
        "    visited[node]=True\n",
        "    for child in graph[node]:\n",
        "        if not visited[child]:\n",
        "            detectCycle(graph,visited,child,node)\n",
        "        else:\n",
        "            if child!=par:\n",
        "                return True\n",
        "    return False\n",
        "ipt=[[1,2],[1,3],[2,3],[2,4],[4,5],[5,1]]\n",
        "graph={}\n",
        "#Make graph using dictionary only\n",
        "for i in range(1,6):\n",
        "    graph[i]=[]\n",
        "for (u,v) in ipt:\n",
        "    graph[u].append(v)\n",
        "    graph[v].append(u)\n",
        "\n",
        "visited=[0 for i in range(6)]\n",
        "detectCycle(graph,visited,1,-1)"
      ],
      "metadata": {
        "colab": {
          "base_uri": "https://localhost:8080/"
        },
        "id": "W1GbKwaHcDXi",
        "outputId": "947d8c5e-ae5b-48f3-fc2a-e97eda7fc45d"
      },
      "execution_count": null,
      "outputs": [
        {
          "output_type": "execute_result",
          "data": {
            "text/plain": [
              "True"
            ]
          },
          "metadata": {},
          "execution_count": 2
        }
      ]
    },
    {
      "cell_type": "code",
      "source": [
        "# Log In-Out time of a tree\n",
        "time=0\n",
        "def InOutTime(graph,visited,node,IN,OUT):\n",
        "    global time\n",
        "    IN[node]=time\n",
        "    time+=1\n",
        "    visited[node]=True\n",
        "    for child in graph[node]:\n",
        "        if not visited[child]:\n",
        "            InOutTime(graph,visited,child,IN,OUT)\n",
        "    OUT[node]=time\n",
        "    time+=1\n",
        "    return\n",
        "IN=[-1 for i in range(6)]\n",
        "OUT=[-1 for i in range(6)]\n",
        "visited=[0 for i in range(6)]\n",
        "InOutTime(graph,visited,1,IN,OUT)\n",
        "print(IN)\n",
        "print(OUT)"
      ],
      "metadata": {
        "colab": {
          "base_uri": "https://localhost:8080/"
        },
        "id": "_fju-AiAfd-c",
        "outputId": "0de7d55e-8466-4001-ca18-a8bb5cf015a3"
      },
      "execution_count": null,
      "outputs": [
        {
          "output_type": "stream",
          "name": "stdout",
          "text": [
            "[-1, 0, 1, 2, 4, 5]\n",
            "[-1, 9, 8, 3, 7, 6]\n"
          ]
        }
      ]
    },
    {
      "cell_type": "code",
      "source": [
        "#To do: Articulation Point, Finding bridges\n"
      ],
      "metadata": {
        "id": "gYAysFT8nix4"
      },
      "execution_count": null,
      "outputs": []
    },
    {
      "cell_type": "code",
      "source": [
        "def bfs(graph,visited):\n",
        "    queue=[]\n",
        "    queue.append(1)\n",
        "    visited[1]=1\n",
        "    while queue:\n",
        "        temp=queue.pop()\n",
        "        print(temp)\n",
        "        for child in graph[temp]:\n",
        "            if not visited[child]:\n",
        "                queue.append(child)\n",
        "                visited[child]=True\n",
        "\n",
        "visited=[0 for i in range(6)]\n",
        "bfs(graph,visited)\n"
      ],
      "metadata": {
        "colab": {
          "base_uri": "https://localhost:8080/"
        },
        "id": "2S3uFGRQ4IjZ",
        "outputId": "d1b0fe61-6ddc-466e-c5e9-1ebb4ffcf7e5"
      },
      "execution_count": null,
      "outputs": [
        {
          "output_type": "stream",
          "name": "stdout",
          "text": [
            "1\n",
            "5\n",
            "4\n",
            "3\n",
            "2\n"
          ]
        }
      ]
    },
    {
      "cell_type": "code",
      "source": [
        "#Single source shortest path using bfs\n",
        "def sssp(graph,visited,dist):\n",
        "    queue=[]\n",
        "    queue.append(1)\n",
        "    visited[1]=True\n",
        "    dist[1]=0\n",
        "    while queue:\n",
        "        temp=queue.pop()\n",
        "        print(temp)\n",
        "        for child in graph[temp]:\n",
        "            if not visited[child]:\n",
        "                queue.append(child)\n",
        "                visited[child]=True\n",
        "                dist[child]=dist[temp]+1\n",
        "    print(dist)\n",
        "\n",
        "dist={}\n",
        "for i in range(1,len(ipt)+1):\n",
        "    dist[i]=0\n",
        "visited=[0 for i in range(6)]\n",
        "sssp(graph,visited,dist)"
      ],
      "metadata": {
        "colab": {
          "base_uri": "https://localhost:8080/"
        },
        "id": "icLa7yEZh83w",
        "outputId": "d2ca1a17-f529-47f5-8cc8-d6146a1c9c60"
      },
      "execution_count": null,
      "outputs": [
        {
          "output_type": "stream",
          "name": "stdout",
          "text": [
            "1\n",
            "5\n",
            "4\n",
            "3\n",
            "2\n",
            "{1: 0, 2: 1, 3: 1, 4: 2, 5: 1, 6: 0}\n"
          ]
        }
      ]
    },
    {
      "cell_type": "code",
      "source": [
        "#do kahn"
      ],
      "metadata": {
        "id": "k9IoWomQFAHv"
      },
      "execution_count": null,
      "outputs": []
    },
    {
      "cell_type": "code",
      "source": [
        "#DFS on 2D grid\n",
        "def isvalid(grid,visited,x,y):\n",
        "    row=len(grid)\n",
        "    col=len(grid[0])\n",
        "    if x<0 or y<0 or x>=row or y>=col or visited[x][y]==1:\n",
        "        return False\n",
        "    return True\n",
        "\n",
        "def dfs(grid,visited,start):\n",
        "    x,y=start[0],start[1]\n",
        "    print(grid[x][y])\n",
        "    visited[x][y]=1\n",
        "    if isvalid(grid,visited,x,y+1):\n",
        "        dfs(grid,visited,[x,y+1])\n",
        "    if isvalid(grid,visited,x+1,y):\n",
        "        dfs(grid,visited,[x+1,y])\n",
        "    if isvalid(grid,visited,x-1,y):\n",
        "        dfs(grid,visited,[x-1,y])\n",
        "    if isvalid(grid,visited,x,y-1):\n",
        "        dfs(grid,visited,[x,y-1])\n",
        "\n",
        "grid=[[3,1,5],[7,8,2],[14,11,9]]\n",
        "row=len(grid)\n",
        "col=len(grid[0])\n",
        "visited=[[0 for i in range(row)] for i in range(col)]\n",
        "# print(visited)\n",
        "dfs(grid,visited,[0,0])\n"
      ],
      "metadata": {
        "colab": {
          "base_uri": "https://localhost:8080/"
        },
        "id": "-jVhLk2UKVhs",
        "outputId": "d73c663f-05ec-47d7-d770-28190f4d28d6"
      },
      "execution_count": null,
      "outputs": [
        {
          "output_type": "stream",
          "name": "stdout",
          "text": [
            "3\n",
            "1\n",
            "5\n",
            "2\n",
            "9\n",
            "11\n",
            "8\n",
            "7\n",
            "14\n"
          ]
        }
      ]
    },
    {
      "cell_type": "code",
      "source": [
        "def bfs(grid,visited,start):\n",
        "    queue=[]\n",
        "    i,j=start[0],start[1]\n",
        "    queue.append(start)\n",
        "    visited[i][j]=1\n",
        "    while(queue):\n",
        "        a,b=queue.pop(0)\n",
        "        print(grid[a][b])\n",
        "        for k,l in [[1,0],[0,1],[-1,0],[0,-1]]:\n",
        "            if isvalid(grid,visited,a+k,b+l):\n",
        "                queue.append([a+k,b+l])\n",
        "                visited[a+k][b+l]=1\n",
        "\n",
        "grid=[[3,1,5],[7,8,2],[14,11,9]]\n",
        "row=len(grid)\n",
        "col=len(grid[0])\n",
        "visited=[[0 for i in range(row)] for i in range(col)]\n",
        "bfs(grid,visited,[0,0])\n"
      ],
      "metadata": {
        "colab": {
          "base_uri": "https://localhost:8080/"
        },
        "id": "lILgSmJwPdjj",
        "outputId": "cba3b437-0690-4322-b860-e7de862967a5"
      },
      "execution_count": null,
      "outputs": [
        {
          "output_type": "stream",
          "name": "stdout",
          "text": [
            "3\n",
            "7\n",
            "1\n",
            "14\n",
            "8\n",
            "5\n",
            "11\n",
            "2\n",
            "9\n"
          ]
        }
      ]
    },
    {
      "cell_type": "code",
      "source": [
        "#JUNGLE RUN\n",
        "grid=[\n",
        "    ['S','N','P','P','P'],\n",
        "    ['P','P','P','N','P'],\n",
        "    ['P','N','N','N','P'],\n",
        "    ['P','N','E','P','P']\n",
        "]\n",
        "def isvalid(grid,visited,x,y):\n",
        "    row=len(grid)\n",
        "    col=len(grid[0])\n",
        "    if x<0 or y<0 or x>=row or y>=col or visited[x][y]==1 or grid[x][y]=='N':\n",
        "        return False\n",
        "    return True\n",
        "\n",
        "def bfs(grid,visited,start,end):\n",
        "    i,j=start[0],start[1]\n",
        "    queue=[]\n",
        "    queue.append(start)\n",
        "    visited[i][j]=1\n",
        "    distance[i][j]=0\n",
        "    while queue:\n",
        "        a,b=queue.pop(0)\n",
        "        for u,v in [[1,0],[0,1],[-1,0],[0,-1]]:\n",
        "            if isvalid(grid,visited,a+u,b+v):\n",
        "                queue.append([a+u,b+v])\n",
        "                visited[a+u][b+v]=1\n",
        "                distance[a+u][b+v]=distance[a][b]+1\n",
        "    for item in distance:\n",
        "        print(item)\n",
        "    return distance[end[0]][end[1]]\n",
        "\n",
        "\n",
        "\n",
        "grid=[\n",
        "    ['S','N','P','P','P'],\n",
        "    ['P','P','P','N','P'],\n",
        "    ['P','N','N','N','P'],\n",
        "    ['P','N','E','P','P']\n",
        "]\n",
        "row=len(grid)\n",
        "col=len(grid[0])\n",
        "visited=[[0 for i in range(len(grid[0]))] for j in range(len(grid))]\n",
        "distance=[[-1 for i in range(len(grid[0]))] for j in range(len(grid))]\n",
        "# print (visited,distance)\n",
        "\n",
        "for i in range(row):\n",
        "    for j in range(col):\n",
        "        if grid[i][j]=='S':\n",
        "            start=[i,j]\n",
        "        if grid[i][j]=='E':\n",
        "            end=[i,j]\n",
        "\n",
        "bfs(grid,visited,start,end)"
      ],
      "metadata": {
        "colab": {
          "base_uri": "https://localhost:8080/"
        },
        "id": "u78tdwggXvdd",
        "outputId": "7a98de2a-08a9-4933-c780-5ee4b52b7681"
      },
      "execution_count": null,
      "outputs": [
        {
          "output_type": "stream",
          "name": "stdout",
          "text": [
            "[0, -1, 4, 5, 6]\n",
            "[1, 2, 3, -1, 7]\n",
            "[2, -1, -1, -1, 8]\n",
            "[3, -1, 11, 10, 9]\n"
          ]
        },
        {
          "output_type": "execute_result",
          "data": {
            "text/plain": [
              "11"
            ]
          },
          "metadata": {},
          "execution_count": 18
        }
      ]
    },
    {
      "cell_type": "code",
      "source": [
        "#COUNTING ROOMS\n",
        "def isvalid(grid,visited,x,y):\n",
        "    row=len(grid)\n",
        "    col=len(grid[0])\n",
        "    if x<0 or y<0 or x>=row or y>=col or visited[x][y]==1 or grid[x][y]==1:\n",
        "        return False\n",
        "    return True\n",
        "\n",
        "def dfs(grid,visited,start):\n",
        "    i,j=start[0],start[1]\n",
        "    visited[i][j]=1\n",
        "    # print(visited)\n",
        "    sm=0\n",
        "    for a,b in [[1,0],[0,1],[-1,0],[0,-1]]:\n",
        "        if isvalid(grid,visited,i+a,j+b):\n",
        "            sm+=dfs(grid,visited,[i+a,j+b])\n",
        "            # visited[i+a][j+b]=1\n",
        "    return sm+1\n",
        "\n",
        "grid=[\n",
        "    [0,1,0,0,0,0],\n",
        "    [0,1,0,0,0,0],\n",
        "    [1,0,1,0,1,1],\n",
        "    [0,0,1,1,0,0],\n",
        "    [1,0,0,1,0,0],\n",
        "    [1,1,0,1,0,0]\n",
        "]\n",
        "row=len(grid)\n",
        "col=len(grid[0])\n",
        "visited=[[0 for i in range(col)] for j in range(row)]\n",
        "\n",
        "\n",
        "# print(grid)\n",
        "ans=[]\n",
        "for i in range(col):\n",
        "    for j in range(row):\n",
        "        if visited[i][j]==0 and grid[i][j]==0:\n",
        "            temp=dfs(grid,visited,[i,j])\n",
        "            ans.append(temp)\n",
        "            # print(\"a\")\n",
        "            # print(visited)\n",
        "print(ans)"
      ],
      "metadata": {
        "colab": {
          "base_uri": "https://localhost:8080/"
        },
        "id": "EmF5h6f9entZ",
        "outputId": "fac6b2c6-354f-4102-bb0a-f52cdf4d8021"
      },
      "execution_count": null,
      "outputs": [
        {
          "output_type": "stream",
          "name": "stdout",
          "text": [
            "[2, 9, 6, 6]\n"
          ]
        }
      ]
    },
    {
      "cell_type": "code",
      "source": [
        "from IPython.core.display import set_matplotlib_formats\n",
        "child=[[2,1],[-2,1],[-1,2],[1,2],[2,-1],[-2,-1],[1,-2],[-1,-2]]\n",
        "\n",
        "def isvalid(grid,visited,x,y):\n",
        "    row=len(grid)\n",
        "    col=len(grid[0])\n",
        "    if x<0 or y<0 or x>=row or y>=col or visited[x][y]==1:\n",
        "        return False\n",
        "    return True\n",
        "\n",
        "def bfs(grid,visited,distance,start,end):\n",
        "    i,j=start[0],start[1]\n",
        "    queue=[]\n",
        "    queue.append(start)\n",
        "    global child\n",
        "    visited[i][j]=1\n",
        "    distance[i][j]=0\n",
        "    while(queue):\n",
        "        x,y=queue.pop(0)\n",
        "        for i,j in child:\n",
        "            if isvalid(grid,visited,x+i,y+j):\n",
        "                queue.append([x+i,y+j])\n",
        "                visited[x+i][y+j]=1\n",
        "                distance[x+i][y+j]=distance[x][y]+1\n",
        "    for item in distance:\n",
        "        print(item)\n",
        "    return distance[end[0]][end[1]]\n",
        "\n",
        "\n",
        "grid=[\n",
        "    ['','B','',''],\n",
        "    ['','','',''],\n",
        "    ['','A','',''],\n",
        "    ['','','','']\n",
        "]\n",
        "row=len(grid)\n",
        "col=len(grid[0])\n",
        "visited=[[0 for i in range(col)] for j in range(row)]\n",
        "distance=[[-1 for i in range(col)] for j in range(row)]\n",
        "\n",
        "for i in range(row):\n",
        "    for j in range(col):\n",
        "        if grid[i][j]=='A':\n",
        "            start=[i,j]\n",
        "        if grid[i][j]=='B':\n",
        "            end=[i,j]\n",
        "\n",
        "bfs(grid,visited,distance,start,end)"
      ],
      "metadata": {
        "colab": {
          "base_uri": "https://localhost:8080/"
        },
        "id": "DL6zTKnisrx1",
        "outputId": "1c35a746-354b-4ff6-b9a5-cdd4cea7d6bd"
      },
      "execution_count": null,
      "outputs": [
        {
          "output_type": "stream",
          "name": "stdout",
          "text": [
            "[1, 2, 1, 4]\n",
            "[2, 3, 2, 1]\n",
            "[3, 0, 3, 2]\n",
            "[4, 3, 2, 1]\n"
          ]
        },
        {
          "output_type": "execute_result",
          "data": {
            "text/plain": [
              "2"
            ]
          },
          "metadata": {},
          "execution_count": 38
        }
      ]
    },
    {
      "cell_type": "code",
      "source": [
        "#Kruskal Algorithm\n",
        "ipt=[[1,2,3],[1,3,2],[2,3,2],[2,5,1],[3,4,4],[4,5,8],[3,7,4],[4,7,5],[5,6,6],[7,6,2],[7,8,1],[7,9,2],[6,9,1]]\n",
        "n=9\n",
        "graph=[[] for i in range(9+1)]\n",
        "for u,v,d in ipt:\n",
        "    graph[u].append([d,v])\n",
        "    graph[v].append([d,u])\n",
        "print(graph)\n"
      ],
      "metadata": {
        "colab": {
          "base_uri": "https://localhost:8080/"
        },
        "id": "b6X9T-LmT9PN",
        "outputId": "fe333eb9-49bc-4297-ce88-4fecfca51eca"
      },
      "execution_count": null,
      "outputs": [
        {
          "output_type": "stream",
          "name": "stdout",
          "text": [
            "[[], [[3, 2], [2, 3]], [[3, 1], [2, 3], [1, 5]], [[2, 1], [2, 2], [4, 4], [4, 7]], [[4, 3], [8, 5], [5, 7]], [[1, 2], [8, 4], [6, 6]], [[6, 5], [2, 7], [1, 9]], [[4, 3], [5, 4], [2, 6], [1, 8], [2, 9]], [[1, 7]], [[2, 7], [1, 6]]]\n"
          ]
        }
      ]
    },
    {
      "cell_type": "code",
      "source": [
        "from heapq import *\n",
        "def prims(graph,start,parent,distance,visited):\n",
        "    bag=[]\n",
        "    heappush(bag,[0,start])\n",
        "    distance[start]=0\n",
        "    parent[start]=-1\n",
        "    while bag:\n",
        "        d,n=heappop(bag)\n",
        "        if not visited[n]:\n",
        "            visited[n]=1\n",
        "            for cd,cn in graph[n]:\n",
        "                if distance[cn]>cd and not visited[cn]:\n",
        "                    parent[cn]=n\n",
        "                    distance[cn]=cd\n",
        "                    heappush(bag,[cd,cn])\n",
        "    print(distance)\n",
        "    print(parent)\n",
        "ipt=[[1,2,1],[2,3,4],[3,4,1],[4,5,2],[1,5,3],[2,5,2],[2,4,1]]\n",
        "n=5\n",
        "graph={}\n",
        "parent={}\n",
        "distance={}\n",
        "visited={}\n",
        "for i in range(1,n+1):\n",
        "    graph[i]=[]\n",
        "    parent[i]=None\n",
        "    distance[i]=10**8+1 #infinite\n",
        "    visited[i]=0\n",
        "for u,v,d in ipt:\n",
        "    graph[u].append([d,v])\n",
        "    graph[v].append([d,u])\n",
        "prims(graph,1,parent,distance,visited)\n"
      ],
      "metadata": {
        "colab": {
          "base_uri": "https://localhost:8080/"
        },
        "id": "q3F4H6GECdKZ",
        "outputId": "cb744a8d-763c-4605-95f2-fdae6e0c7c3d"
      },
      "execution_count": null,
      "outputs": [
        {
          "output_type": "stream",
          "name": "stdout",
          "text": [
            "{1: 0, 2: 1, 3: 1, 4: 1, 5: 2}\n",
            "{1: -1, 2: 1, 3: 4, 4: 2, 5: 2}\n"
          ]
        }
      ]
    },
    {
      "cell_type": "code",
      "source": [
        "\n",
        "l=[10,20,20,30,40,30,40]\n",
        "\n",
        "def findsingle(l):\n",
        "    for i in l:\n",
        "        if l.count(i)==1:\n",
        "            return i\n",
        "    return -1\n",
        "\n",
        "findsingle(l)"
      ],
      "metadata": {
        "colab": {
          "base_uri": "https://localhost:8080/"
        },
        "id": "MLIbdlgSqfzd",
        "outputId": "39725eaf-7ab8-4fbf-b42b-36b13e8e042a"
      },
      "execution_count": null,
      "outputs": [
        {
          "output_type": "execute_result",
          "data": {
            "text/plain": [
              "10"
            ]
          },
          "metadata": {},
          "execution_count": 3
        }
      ]
    },
    {
      "cell_type": "code",
      "source": [
        "def findsingle2(l):\n",
        "    a=0\n",
        "    for i in l:\n",
        "        a=a^i\n",
        "    return a\n",
        "findsingle2(l)"
      ],
      "metadata": {
        "colab": {
          "base_uri": "https://localhost:8080/"
        },
        "id": "zKidxWj9lj53",
        "outputId": "d1d5063a-8261-4673-d548-059ef764d675"
      },
      "execution_count": null,
      "outputs": [
        {
          "output_type": "execute_result",
          "data": {
            "text/plain": [
              "10"
            ]
          },
          "metadata": {},
          "execution_count": 4
        }
      ]
    },
    {
      "cell_type": "code",
      "source": [
        "def powerset(s):\n",
        "    n=len(s)\n",
        "    k=2**n\n",
        "    for i in range(k):\n",
        "        for j in range(n):\n",
        "            if i&(1<<j):\n",
        "                print(s[j],end='')\n",
        "        print()\n",
        "\n",
        "s='ani'\n",
        "powerset(s)"
      ],
      "metadata": {
        "colab": {
          "base_uri": "https://localhost:8080/"
        },
        "id": "uflLxj7HmuQ9",
        "outputId": "19da6af6-1a26-4afc-f41f-a56b73ed6df2"
      },
      "execution_count": null,
      "outputs": [
        {
          "output_type": "stream",
          "name": "stdout",
          "text": [
            "\n",
            "a\n",
            "n\n",
            "an\n",
            "i\n",
            "ai\n",
            "ni\n",
            "ani\n"
          ]
        }
      ]
    },
    {
      "cell_type": "code",
      "source": [
        "def setbit(x,i):\n",
        "    return 1 if x&(x<<i)>0 else 0\n",
        "x=4\n",
        "setbit(4,1)"
      ],
      "metadata": {
        "colab": {
          "base_uri": "https://localhost:8080/"
        },
        "id": "e-hhZMMNpZzQ",
        "outputId": "fa3e1a9b-a1c0-4660-b06d-09075164c4ca"
      },
      "execution_count": null,
      "outputs": [
        {
          "output_type": "execute_result",
          "data": {
            "text/plain": [
              "0"
            ]
          },
          "metadata": {},
          "execution_count": 14
        }
      ]
    },
    {
      "cell_type": "code",
      "source": [
        "import heapq\n",
        "def ksort(arr,k):\n",
        "    pq=arr[:k+1]\n",
        "    heapq.heapify(pq)\n",
        "    index=0\n",
        "    for i in range(k+1,len(arr)):\n",
        "        arr[index]=heapq.heappop(pq)\n",
        "        heapq.heappush(pq,arr[i])\n",
        "        index+=1\n",
        "    while pq:\n",
        "        arr[index]=heapq.heappop(pq)\n",
        "        index+=1\n",
        "    return arr\n",
        "\n",
        "arr=[2,6,3,12,56,8]\n",
        "k=3\n",
        "print(ksort(arr,k))"
      ],
      "metadata": {
        "colab": {
          "base_uri": "https://localhost:8080/"
        },
        "id": "ysYcvl0hqfeN",
        "outputId": "4ab98d48-b893-4b61-ccc1-8bad840065dc"
      },
      "execution_count": null,
      "outputs": [
        {
          "output_type": "stream",
          "name": "stdout",
          "text": [
            "[2, 3, 6, 8, 12, 56]\n"
          ]
        }
      ]
    },
    {
      "cell_type": "code",
      "source": [
        "def maxEle(arr,k):\n",
        "    pq=arr\n",
        "    sum=0\n",
        "    res=0\n",
        "    heapq.heapify(pq)\n",
        "    for i in pq:\n",
        "        t=heapq.heappop(pq)\n",
        "        sum=sum+t\n",
        "        if sum>k:\n",
        "            break\n",
        "        res+=1\n",
        "    return res\n",
        "\n",
        "arr=[2,6,3,12,56,8]\n",
        "k=16\n",
        "print(maxEle(arr,k))"
      ],
      "metadata": {
        "colab": {
          "base_uri": "https://localhost:8080/"
        },
        "id": "GNiD8p7d1mlB",
        "outputId": "a89ff199-c341-4660-a8aa-dd9de69a66ad"
      },
      "execution_count": null,
      "outputs": [
        {
          "output_type": "stream",
          "name": "stdout",
          "text": [
            "3\n"
          ]
        }
      ]
    },
    {
      "cell_type": "code",
      "source": [
        "def klargest(arr,k):\n",
        "    pq=arr\n",
        "    heapq.heapify(pq)\n",
        "    for i in range(k):\n",
        "        if pq:\n",
        "            t=heapq.heappop(pq)\n",
        "            print(t)\n",
        "    return\n",
        "klargest(arr,2)"
      ],
      "metadata": {
        "id": "aVxUz9FUMPNn"
      },
      "execution_count": null,
      "outputs": []
    },
    {
      "cell_type": "code",
      "source": [
        "import heapq\n",
        "def mergeK(arr):\n",
        "    h=[]\n",
        "    ans=[]\n",
        "    for i in range(len(arr)):\n",
        "        heapq.heappush(h,(arr[i][0],i,0))\n",
        "    while h:\n",
        "        val,ap,vp=heapq.heappop(h)\n",
        "        ans.append(val)\n",
        "        if len(arr[ap])>vp+1:\n",
        "            heapq.heappush(h,(arr[ap][vp+1],ap,vp+1))\n",
        "    return ans\n"
      ],
      "metadata": {
        "id": "JzBPdUd9NL1u"
      },
      "execution_count": null,
      "outputs": []
    },
    {
      "cell_type": "code",
      "source": [
        "arr=[[10,20],[5,15],[4,9,11]]\n",
        "print(mergeK(arr))"
      ],
      "metadata": {
        "colab": {
          "base_uri": "https://localhost:8080/"
        },
        "id": "KBUJHSDgJb0c",
        "outputId": "c5f94a90-8ba3-4f34-a3a6-427b2121c01f"
      },
      "execution_count": null,
      "outputs": [
        {
          "output_type": "stream",
          "name": "stdout",
          "text": [
            "[4, 5, 9, 10, 11, 15, 20]\n"
          ]
        }
      ]
    },
    {
      "cell_type": "code",
      "source": [
        "# Function to find unique elements in intersection of two arrays\n",
        "def uniqueIntersection(arr1,arr2):\n",
        "    s=set()\n",
        "    res=0\n",
        "    for i in arr1:\n",
        "        s.add(i)\n",
        "    for i in arr2:\n",
        "        if i in s:\n",
        "            s.remove(i)\n",
        "            res+=1\n",
        "    return res\n",
        "arr1=[1,4,2,6,6]\n",
        "arr2=[1,8,9,6]\n",
        "uniqueIntersection(arr1,arr2)"
      ],
      "metadata": {
        "colab": {
          "base_uri": "https://localhost:8080/"
        },
        "id": "OLdD1dMnJrVs",
        "outputId": "b50da570-cedf-4971-d417-afbf8e4bce12"
      },
      "execution_count": null,
      "outputs": [
        {
          "output_type": "execute_result",
          "data": {
            "text/plain": [
              "2"
            ]
          },
          "metadata": {},
          "execution_count": 15
        }
      ]
    },
    {
      "cell_type": "code",
      "source": [
        "# Function to find unique elements in union of two arrays\n",
        "def uniqueIntersection(arr1,arr2):\n",
        "    s=set()\n",
        "    res=0\n",
        "    for i in arr1:\n",
        "        if i not in s:\n",
        "            s.add(i)\n",
        "            res+=1\n",
        "    for i in arr2:\n",
        "        if i not in s:\n",
        "            s.add(i)\n",
        "            res+=1\n",
        "    return res\n",
        "arr1=[1,4,2,6,6]\n",
        "arr2=[1,8,9,6]\n",
        "uniqueIntersection(arr1,arr2)\n"
      ],
      "metadata": {
        "colab": {
          "base_uri": "https://localhost:8080/"
        },
        "id": "nFQtEXX8RqpW",
        "outputId": "3bcb813c-4734-47d2-a266-1040da91c5ad"
      },
      "execution_count": null,
      "outputs": [
        {
          "output_type": "execute_result",
          "data": {
            "text/plain": [
              "6"
            ]
          },
          "metadata": {},
          "execution_count": 16
        }
      ]
    },
    {
      "cell_type": "code",
      "source": [
        "# Function to find pair with given sum in unsorted array\n",
        "def pairsum(arr,sum):\n",
        "    s=set()\n",
        "\n",
        "    for i in arr:\n",
        "        s.add(i)\n",
        "        if sum-i in s:  #It will take O(1) time on average and O(n) in worst case\n",
        "            return 1\n",
        "    return 0\n",
        "\n",
        "arr=[1,5,3,7,9]\n",
        "pairsum(arr,20)\n"
      ],
      "metadata": {
        "colab": {
          "base_uri": "https://localhost:8080/"
        },
        "id": "PEvwr0KESiIO",
        "outputId": "7f58e2a0-8669-409f-d28d-c8e9a346df4f"
      },
      "execution_count": null,
      "outputs": [
        {
          "output_type": "execute_result",
          "data": {
            "text/plain": [
              "0"
            ]
          },
          "metadata": {},
          "execution_count": 18
        }
      ]
    },
    {
      "cell_type": "code",
      "source": [
        "#Function to find if there is subarray with given sum\n",
        "def sumzero(arr):\n",
        "    presum=0\n",
        "    s=set()\n",
        "    for i in arr:\n",
        "        presum=presum+i\n",
        "        if presum==0 or presum in s:\n",
        "            return True\n",
        "        s.add(presum)\n",
        "    return False\n",
        "\n",
        "arr=[1,5,3,7,-11,5,6]\n",
        "sumzero(arr)\n"
      ],
      "metadata": {
        "colab": {
          "base_uri": "https://localhost:8080/"
        },
        "id": "DWjhqS-TUJjS",
        "outputId": "256be92b-3a04-4077-bf5a-892efd9662d8"
      },
      "execution_count": null,
      "outputs": [
        {
          "output_type": "execute_result",
          "data": {
            "text/plain": [
              "True"
            ]
          },
          "metadata": {},
          "execution_count": 25
        }
      ]
    },
    {
      "cell_type": "code",
      "source": [
        "\n",
        "def longestincreasingsubsequence(arr):\n",
        "    s=set()\n",
        "    for i in arr:\n",
        "        s.add(i)\n",
        "    res=0\n",
        "    for i in s:\n",
        "        if i-1 not in s:\n",
        "            c=1\n",
        "            while(i+c in s):\n",
        "                c+=1\n",
        "            res=max(res,c)\n",
        "    return res\n",
        "\n",
        "arr=[3,5,2,1,4,9,8]\n",
        "longestincreasingsubsequence(arr)\n"
      ],
      "metadata": {
        "colab": {
          "base_uri": "https://localhost:8080/"
        },
        "id": "pDNhy5H3XehP",
        "outputId": "bfdf5ba4-0393-456c-90ed-28402e4b3af9"
      },
      "execution_count": null,
      "outputs": [
        {
          "output_type": "execute_result",
          "data": {
            "text/plain": [
              "5"
            ]
          },
          "metadata": {},
          "execution_count": 1
        }
      ]
    },
    {
      "cell_type": "code",
      "source": [
        "from collections import Counter\n",
        "def tellme(arr,k): #function to print numbers having occurences more than n/k\n",
        "    c=Counter(arr) #gives dictionary of frequency\n",
        "    n=len(arr)\n",
        "    print(c)\n",
        "    for i in c:\n",
        "        if c[i]>=n//k:\n",
        "            print(i)\n",
        "    return\n",
        "arr=[10,20,10,30,30,30,3,5]\n",
        "tellme(arr,4)"
      ],
      "metadata": {
        "colab": {
          "base_uri": "https://localhost:8080/"
        },
        "id": "NxoCSzsgnqud",
        "outputId": "cd62c2d9-d379-4138-f82d-c2837f15d822"
      },
      "execution_count": null,
      "outputs": [
        {
          "output_type": "stream",
          "name": "stdout",
          "text": [
            "Counter({30: 3, 10: 2, 20: 1, 3: 1, 5: 1})\n",
            "10\n",
            "30\n"
          ]
        }
      ]
    },
    {
      "cell_type": "code",
      "source": [
        "print(\"buffal\"*5)"
      ],
      "metadata": {
        "colab": {
          "base_uri": "https://localhost:8080/"
        },
        "id": "JM7KL1x8q34-",
        "outputId": "72a0f7de-e1c6-43ff-b5ca-e7a660ca2ce7"
      },
      "execution_count": null,
      "outputs": [
        {
          "output_type": "stream",
          "name": "stdout",
          "text": [
            "buffalbuffalbuffalbuffalbuffal\n"
          ]
        }
      ]
    },
    {
      "cell_type": "code",
      "source": [
        "def activitySelection(arr):\n",
        "    arr.sort(key=lambda x:x[1])\n",
        "    cur=0\n",
        "    count=1\n",
        "    print(arr)\n",
        "    for i in range(len(arr)):\n",
        "        if arr[cur][1]<=arr[i][0]:\n",
        "            count+=1\n",
        "            cur=i\n",
        "    return count\n",
        "\n",
        "arr=[[12,15],[10,20],[20,30]]\n",
        "activitySelection(arr)\n"
      ],
      "metadata": {
        "colab": {
          "base_uri": "https://localhost:8080/"
        },
        "id": "y23G2fiDOvR6",
        "outputId": "8c1447f9-793a-4715-a8f5-9f618c14275f"
      },
      "execution_count": null,
      "outputs": [
        {
          "output_type": "stream",
          "name": "stdout",
          "text": [
            "[[12, 15], [10, 20], [20, 30]]\n"
          ]
        },
        {
          "output_type": "execute_result",
          "data": {
            "text/plain": [
              "2"
            ]
          },
          "metadata": {},
          "execution_count": 3
        }
      ]
    },
    {
      "cell_type": "code",
      "source": [
        "# To Do: Huffman encoding"
      ],
      "metadata": {
        "id": "6PbQJ_XxhgHC"
      },
      "execution_count": null,
      "outputs": []
    },
    {
      "cell_type": "code",
      "source": [
        "s1='aniket'\n",
        "s2='ani'\n",
        "if s2 in s1:\n",
        "    print ('yes')\n"
      ],
      "metadata": {
        "colab": {
          "base_uri": "https://localhost:8080/"
        },
        "id": "0SYh1jem2D0s",
        "outputId": "99c72628-d166-4a0d-9ea9-137ffc2bc3f8"
      },
      "execution_count": null,
      "outputs": [
        {
          "output_type": "stream",
          "name": "stdout",
          "text": [
            "yes\n"
          ]
        }
      ]
    },
    {
      "cell_type": "code",
      "source": [
        "5^6"
      ],
      "metadata": {
        "colab": {
          "base_uri": "https://localhost:8080/"
        },
        "id": "sd-ovqjeHpM5",
        "outputId": "02c9b868-2e77-4234-e6b8-57a53d913e76"
      },
      "execution_count": null,
      "outputs": [
        {
          "output_type": "execute_result",
          "data": {
            "text/plain": [
              "3"
            ]
          },
          "metadata": {},
          "execution_count": 1
        }
      ]
    },
    {
      "cell_type": "code",
      "source": [
        "5^3"
      ],
      "metadata": {
        "colab": {
          "base_uri": "https://localhost:8080/"
        },
        "id": "jO9TQ8JvxPj_",
        "outputId": "74431101-ee0c-43ce-8819-cae659673d6a"
      },
      "execution_count": null,
      "outputs": [
        {
          "output_type": "execute_result",
          "data": {
            "text/plain": [
              "6"
            ]
          },
          "metadata": {},
          "execution_count": 2
        }
      ]
    },
    {
      "cell_type": "code",
      "source": [
        "3^6"
      ],
      "metadata": {
        "colab": {
          "base_uri": "https://localhost:8080/"
        },
        "id": "2lEqKHDhxS3-",
        "outputId": "2b9ba20c-391c-4c41-c877-e641823cc914"
      },
      "execution_count": null,
      "outputs": [
        {
          "output_type": "execute_result",
          "data": {
            "text/plain": [
              "5"
            ]
          },
          "metadata": {},
          "execution_count": 3
        }
      ]
    },
    {
      "cell_type": "code",
      "source": [
        "5^2"
      ],
      "metadata": {
        "colab": {
          "base_uri": "https://localhost:8080/"
        },
        "id": "rpRHoqtNxVq9",
        "outputId": "00e862ad-c8a0-4195-abf0-4e3b9c0b4234"
      },
      "execution_count": null,
      "outputs": [
        {
          "output_type": "execute_result",
          "data": {
            "text/plain": [
              "7"
            ]
          },
          "metadata": {},
          "execution_count": 4
        }
      ]
    },
    {
      "cell_type": "code",
      "source": [
        "5^7"
      ],
      "metadata": {
        "colab": {
          "base_uri": "https://localhost:8080/"
        },
        "id": "8xzy6KGIxYf8",
        "outputId": "74cebc23-e647-4dd3-e6d4-7d07f1b04899"
      },
      "execution_count": null,
      "outputs": [
        {
          "output_type": "execute_result",
          "data": {
            "text/plain": [
              "2"
            ]
          },
          "metadata": {},
          "execution_count": 5
        }
      ]
    },
    {
      "cell_type": "code",
      "source": [
        "t=4\n",
        "s=t\n",
        "s-=1\n"
      ],
      "metadata": {
        "id": "sJXZtUFYxaTZ"
      },
      "execution_count": null,
      "outputs": []
    },
    {
      "cell_type": "code",
      "source": [
        "# To find rightmost set bit (Variable name is XOR)\n",
        "c=0\n",
        "XOR=2\n",
        "while(XOR):\n",
        "    if XOR & 1:\n",
        "        break\n",
        "    c+=1\n",
        "    XOR=XOR>>1\n",
        "print(c)"
      ],
      "metadata": {
        "colab": {
          "base_uri": "https://localhost:8080/"
        },
        "id": "ly3JZ4-eW3cE",
        "outputId": "2e6a8868-4554-4d27-d9f4-f8e45b98fd46"
      },
      "execution_count": null,
      "outputs": [
        {
          "output_type": "stream",
          "name": "stdout",
          "text": [
            "1\n"
          ]
        }
      ]
    },
    {
      "cell_type": "code",
      "source": [
        "# find two character apearing once\n",
        "arr=[1,5,2,7,1,5,2,9]\n",
        "XOR1=0\n",
        "XOR2=0\n",
        "XOR=0\n",
        "for i in arr:\n",
        "    XOR^=i\n",
        "c=0\n",
        "while(XOR):\n",
        "    if XOR &1:\n",
        "        break\n",
        "    c+=1\n",
        "    XOR=XOR>>1\n",
        "for i in arr:\n",
        "    if i&(1<<c): #To check if cth bit is set or not\n",
        "        XOR1^=i\n",
        "    else:\n",
        "        XOR2^=i\n",
        "print(XOR1,XOR2)"
      ],
      "metadata": {
        "colab": {
          "base_uri": "https://localhost:8080/"
        },
        "id": "QeMG_HN5XLD4",
        "outputId": "d5f7e794-f486-460d-e123-3016d55df4f9"
      },
      "execution_count": null,
      "outputs": [
        {
          "output_type": "stream",
          "name": "stdout",
          "text": [
            "7 9\n"
          ]
        }
      ]
    },
    {
      "cell_type": "code",
      "source": [
        "arr=[1,3,5]\n",
        "n=len(arr)\n",
        "ans=[]\n",
        "for num in (range(1<<n)):\n",
        "    t=[]\n",
        "    for bit in range(n):\n",
        "        if num&(1<<bit):\n",
        "            t.append(arr[bit])\n",
        "    ans.append(t)\n",
        "print(ans)"
      ],
      "metadata": {
        "colab": {
          "base_uri": "https://localhost:8080/"
        },
        "id": "3FvFBZtUhEtd",
        "outputId": "4cbdc8d6-893e-47bf-c36b-19cc2f3e1dcf"
      },
      "execution_count": null,
      "outputs": [
        {
          "output_type": "stream",
          "name": "stdout",
          "text": [
            "[[], [1], [3], [1, 3], [5], [1, 5], [3, 5], [1, 3, 5]]\n"
          ]
        }
      ]
    },
    {
      "cell_type": "code",
      "source": [
        "a={2,3,4}"
      ],
      "metadata": {
        "id": "9QdiR4IzlIR2"
      },
      "execution_count": null,
      "outputs": []
    },
    {
      "cell_type": "code",
      "source": [
        "s='ani'\n",
        "print(s[0])"
      ],
      "metadata": {
        "colab": {
          "base_uri": "https://localhost:8080/"
        },
        "id": "DTnYA3vQqC03",
        "outputId": "e8e41de6-615a-40f4-fa81-e556c7d88c28"
      },
      "execution_count": null,
      "outputs": [
        {
          "output_type": "stream",
          "name": "stdout",
          "text": [
            "a\n"
          ]
        }
      ]
    },
    {
      "cell_type": "code",
      "source": [
        "# importing library sympy\n",
        "from sympy import symbols, Eq, solve\n",
        "\n",
        "# defining symbols used in equations\n",
        "# or unknown variables\n",
        "x, y = symbols('x,y')\n",
        "a,b,c,d,e,f,g,h,m,n,l = 1,2,3,4,5,6,7,8,9,10,11\n",
        "# defining equations\n",
        "eq1 = Eq((a*x+b*y), m)\n",
        "print(\"Equation 1:\")\n",
        "print(eq1)\n",
        "eq2 = Eq((c*x+d*y), l)\n",
        "print(\"Equation 2\")\n",
        "print(eq2)\n",
        "\n",
        "eq3 = Eq((e*x+f*y), m)\n",
        "print(\"Equation 3:\")\n",
        "print(eq3)\n",
        "eq4 = Eq((g*x+h*y), n)\n",
        "print(\"Equation 4\")\n",
        "print(eq4)\n",
        "\n",
        "# solving the equation\n",
        "print(\"Values of 2 unknown variable are as follows:\")\n",
        "\n",
        "print(solve((eq1, eq2, eq3), (x, y)))\n"
      ],
      "metadata": {
        "id": "i4Ec8isVqFG3",
        "colab": {
          "base_uri": "https://localhost:8080/"
        },
        "outputId": "d1597bb4-b9c6-4173-c32d-4406215fa62c"
      },
      "execution_count": null,
      "outputs": [
        {
          "output_type": "stream",
          "name": "stdout",
          "text": [
            "Equation 1:\n",
            "Eq(x + 2*y, 9)\n",
            "Equation 2\n",
            "Eq(3*x + 4*y, 11)\n",
            "Equation 3:\n",
            "Eq(5*x + 6*y, 9)\n",
            "Equation 4\n",
            "Eq(7*x + 8*y, 10)\n",
            "Values of 2 unknown variable are as follows:\n",
            "[]\n"
          ]
        }
      ]
    },
    {
      "cell_type": "code",
      "source": [
        "# input= arr,N,K\n",
        "arr=[1,3,5,6,7]\n",
        "K=6\n",
        "t=1\n",
        "while(t==1):\n",
        "    arr2=[]\n",
        "    for i in range(len(arr)-1):\n",
        "        arr2.append(arr[i])\n",
        "        arr2.append(abs(arr[i+1]-arr[i]))\n",
        "    arr2.append(arr[-1])\n",
        "    s=set(arr)\n",
        "    s2=set(arr2)\n",
        "    if len(s)==len(s2):\n",
        "        t=0\n",
        "    else:\n",
        "        arr=[]\n",
        "        for i in range(len(arr2)):\n",
        "            arr.append(arr2[i])\n",
        "    s=set(arr2)\n",
        "    arr=list(s)\n",
        "    arr.sort\n",
        "print(arr)"
      ],
      "metadata": {
        "id": "V2rKEOxhf5U_",
        "colab": {
          "base_uri": "https://localhost:8080/"
        },
        "outputId": "db3cfcd9-8895-44b1-d260-17e7290a72eb"
      },
      "execution_count": null,
      "outputs": [
        {
          "output_type": "stream",
          "name": "stdout",
          "text": [
            "[1, 2, 3, 5, 6, 7]\n"
          ]
        }
      ]
    },
    {
      "cell_type": "code",
      "source": [
        "# Input: s=\"064819848398\"\n",
        "# queries = {\"088\" , \"364\", \"07\"}\n",
        "# Output = {7,0,-1}\n",
        "\n",
        "def tellme(s,queries):\n",
        "    # i=0\n",
        "    ans=[]\n",
        "    for query in queries:\n",
        "        i=0\n",
        "        for j in range(len(s)):\n",
        "            if s[j]==query[i]:\n",
        "                i+=1\n",
        "        if i>=len(query):\n",
        "            ans.append(1)\n",
        "\n",
        "\n"
      ],
      "metadata": {
        "id": "fwPhxou70Zzb"
      },
      "execution_count": null,
      "outputs": []
    },
    {
      "cell_type": "code",
      "source": [
        "def foo(i,x=[]):\n",
        "    k=x.append(i)\n",
        "    print(k)\n",
        "    x.append(k)\n",
        "    return x\n",
        "for i in range(3):\n",
        "    y=foo(i)\n",
        "    print(y)\n",
        "print(y)"
      ],
      "metadata": {
        "colab": {
          "base_uri": "https://localhost:8080/"
        },
        "id": "3zV3lOhs8joH",
        "outputId": "825b109c-336d-4a22-e92c-ad774b868606"
      },
      "execution_count": null,
      "outputs": [
        {
          "output_type": "stream",
          "name": "stdout",
          "text": [
            "None\n",
            "[0, None]\n",
            "None\n",
            "[0, None, 1, None]\n",
            "None\n",
            "[0, None, 1, None, 2, None]\n",
            "[0, None, 1, None, 2, None]\n"
          ]
        }
      ]
    },
    {
      "cell_type": "code",
      "source": [
        "fun=tuple(map(lambda i:[i,i+1],range(5)))\n",
        "fun[2][1]=5\n",
        "print(fun)"
      ],
      "metadata": {
        "colab": {
          "base_uri": "https://localhost:8080/"
        },
        "id": "qxAuvJET8xFI",
        "outputId": "29393458-6908-4998-d3a8-59ea3db3444b"
      },
      "execution_count": null,
      "outputs": [
        {
          "output_type": "stream",
          "name": "stdout",
          "text": [
            "([0, 1], [1, 2], [2, 5], [3, 4], [4, 5])\n"
          ]
        }
      ]
    },
    {
      "cell_type": "code",
      "source": [
        "def foo():\n",
        "    return t+1\n",
        "def f():\n",
        "    t+=1\n",
        "    return t\n",
        "t=0\n",
        "print(foo())\n",
        "print(f())"
      ],
      "metadata": {
        "colab": {
          "base_uri": "https://localhost:8080/",
          "height": 357
        },
        "id": "fKauQtnN-Oze",
        "outputId": "f4f18813-5b9b-4168-e988-fafa06afe4b8"
      },
      "execution_count": null,
      "outputs": [
        {
          "output_type": "stream",
          "name": "stdout",
          "text": [
            "1\n"
          ]
        },
        {
          "output_type": "error",
          "ename": "UnboundLocalError",
          "evalue": "ignored",
          "traceback": [
            "\u001b[0;31m---------------------------------------------------------------------------\u001b[0m",
            "\u001b[0;31mUnboundLocalError\u001b[0m                         Traceback (most recent call last)",
            "\u001b[0;32m<ipython-input-5-93b8fcd374bb>\u001b[0m in \u001b[0;36m<cell line: 8>\u001b[0;34m()\u001b[0m\n\u001b[1;32m      6\u001b[0m \u001b[0mt\u001b[0m\u001b[0;34m=\u001b[0m\u001b[0;36m0\u001b[0m\u001b[0;34m\u001b[0m\u001b[0;34m\u001b[0m\u001b[0m\n\u001b[1;32m      7\u001b[0m \u001b[0mprint\u001b[0m\u001b[0;34m(\u001b[0m\u001b[0mfoo\u001b[0m\u001b[0;34m(\u001b[0m\u001b[0;34m)\u001b[0m\u001b[0;34m)\u001b[0m\u001b[0;34m\u001b[0m\u001b[0;34m\u001b[0m\u001b[0m\n\u001b[0;32m----> 8\u001b[0;31m \u001b[0mprint\u001b[0m\u001b[0;34m(\u001b[0m\u001b[0mf\u001b[0m\u001b[0;34m(\u001b[0m\u001b[0;34m)\u001b[0m\u001b[0;34m)\u001b[0m\u001b[0;34m\u001b[0m\u001b[0;34m\u001b[0m\u001b[0m\n\u001b[0m",
            "\u001b[0;32m<ipython-input-5-93b8fcd374bb>\u001b[0m in \u001b[0;36mf\u001b[0;34m()\u001b[0m\n\u001b[1;32m      2\u001b[0m     \u001b[0;32mreturn\u001b[0m \u001b[0mt\u001b[0m\u001b[0;34m+\u001b[0m\u001b[0;36m1\u001b[0m\u001b[0;34m\u001b[0m\u001b[0;34m\u001b[0m\u001b[0m\n\u001b[1;32m      3\u001b[0m \u001b[0;32mdef\u001b[0m \u001b[0mf\u001b[0m\u001b[0;34m(\u001b[0m\u001b[0;34m)\u001b[0m\u001b[0;34m:\u001b[0m\u001b[0;34m\u001b[0m\u001b[0;34m\u001b[0m\u001b[0m\n\u001b[0;32m----> 4\u001b[0;31m     \u001b[0mt\u001b[0m\u001b[0;34m+=\u001b[0m\u001b[0;36m1\u001b[0m\u001b[0;34m\u001b[0m\u001b[0;34m\u001b[0m\u001b[0m\n\u001b[0m\u001b[1;32m      5\u001b[0m     \u001b[0;32mreturn\u001b[0m \u001b[0mt\u001b[0m\u001b[0;34m\u001b[0m\u001b[0;34m\u001b[0m\u001b[0m\n\u001b[1;32m      6\u001b[0m \u001b[0mt\u001b[0m\u001b[0;34m=\u001b[0m\u001b[0;36m0\u001b[0m\u001b[0;34m\u001b[0m\u001b[0;34m\u001b[0m\u001b[0m\n",
            "\u001b[0;31mUnboundLocalError\u001b[0m: local variable 't' referenced before assignment"
          ]
        }
      ]
    },
    {
      "cell_type": "code",
      "source": [
        "\n",
        "def tell(s):\n",
        "    ans=0\n",
        "    for i in range(len(s)):\n",
        "        ans=ans*10+ord(s[i])-ord('0')\n",
        "    print(s,\" \",ans)\n",
        "    return ans\n",
        "def tell2(num,den):\n",
        "    t=max(num,den)\n",
        "    for i in range(1,t):\n",
        "        if num%i==0 and den%i==0:\n",
        "            num=num//i\n",
        "            den=den//i\n",
        "    return num,den\n",
        "def tellme(s):\n",
        "    i=0\n",
        "    a=''\n",
        "    b=''\n",
        "    c=''\n",
        "    d=''\n",
        "    while(s[i]!='/'):\n",
        "        a=a+s[i]\n",
        "        i+=1\n",
        "    i+=1\n",
        "    while(s[i]!='+'):\n",
        "        b=b+s[i]\n",
        "        i+=1\n",
        "    i+=1\n",
        "    while(s[i]!='/'):\n",
        "        c=c+s[i]\n",
        "        i+=1\n",
        "    i+=1\n",
        "    while(i<len(s)):\n",
        "        d=d+s[i]\n",
        "        i+=1\n",
        "\n",
        "    i+=1\n",
        "    num=tell(a)*tell(d)+tell(c)*tell(b)\n",
        "    den=(tell(b)*tell(d))\n",
        "    num,den=tell2(num,den)\n",
        "    ans=str(num)+'/'+str(den)\n",
        "    return ans\n",
        "\n",
        "    print(a,b,c,d)\n",
        "print(tellme('1/2+3/4'))\n",
        "\n",
        "\n",
        "\n"
      ],
      "metadata": {
        "id": "itn9gHmIAF2g",
        "colab": {
          "base_uri": "https://localhost:8080/"
        },
        "outputId": "043b3db0-64e0-424d-fd3f-1cebde5677f6"
      },
      "execution_count": null,
      "outputs": [
        {
          "output_type": "stream",
          "name": "stdout",
          "text": [
            "1   1\n",
            "4   4\n",
            "3   3\n",
            "2   2\n",
            "2   2\n",
            "4   4\n",
            "5/4\n"
          ]
        }
      ]
    },
    {
      "cell_type": "code",
      "source": [
        "s=100\n",
        "if s=='Aniket':\n",
        "    print(\"yes\")\n",
        "s='Aniket'\n",
        "print(s)"
      ],
      "metadata": {
        "colab": {
          "base_uri": "https://localhost:8080/"
        },
        "id": "4FnUqw0OVsR4",
        "outputId": "6a9ee1d3-24a5-49e3-b111-4586f9308191"
      },
      "execution_count": null,
      "outputs": [
        {
          "output_type": "stream",
          "name": "stdout",
          "text": [
            "Aniket\n"
          ]
        }
      ]
    },
    {
      "cell_type": "code",
      "source": [
        "print (0.1+0.2==0.3)"
      ],
      "metadata": {
        "colab": {
          "base_uri": "https://localhost:8080/"
        },
        "id": "IrCNDxdbEmOi",
        "outputId": "32065a5c-efff-4cfb-ed3c-6497037a689f"
      },
      "execution_count": null,
      "outputs": [
        {
          "output_type": "stream",
          "name": "stdout",
          "text": [
            "False\n"
          ]
        }
      ]
    },
    {
      "cell_type": "code",
      "source": [
        "T = (2e-04, True, False, 8, 1.001, True)\n",
        "val = 0\n",
        "for x in T:\n",
        "\tval += int(x)\n",
        "print(val)\n"
      ],
      "metadata": {
        "colab": {
          "base_uri": "https://localhost:8080/"
        },
        "id": "oHo6-lpeMBIy",
        "outputId": "63bb7243-f1ed-4ef1-f687-3da7a6dc3881"
      },
      "execution_count": null,
      "outputs": [
        {
          "output_type": "stream",
          "name": "stdout",
          "text": [
            "11\n"
          ]
        }
      ]
    },
    {
      "cell_type": "code",
      "source": [
        "0+0.1\n"
      ],
      "metadata": {
        "colab": {
          "base_uri": "https://localhost:8080/"
        },
        "id": "rfqAC3EsZrrZ",
        "outputId": "81b6870b-4576-4431-f493-87e8d5dadb92"
      },
      "execution_count": null,
      "outputs": [
        {
          "output_type": "execute_result",
          "data": {
            "text/plain": [
              "0.1"
            ]
          },
          "metadata": {},
          "execution_count": 18
        }
      ]
    },
    {
      "cell_type": "code",
      "source": [
        "my_tuple = (1, 4, 4, 5)\n",
        "my_tuple1 = (5, 2, 3, 4)\n",
        "print (my_tuple > my_tuple1)"
      ],
      "metadata": {
        "colab": {
          "base_uri": "https://localhost:8080/"
        },
        "id": "elembHASZuj4",
        "outputId": "8cfdcffe-83d9-489f-8ad6-004bbef4a680"
      },
      "execution_count": null,
      "outputs": [
        {
          "output_type": "stream",
          "name": "stdout",
          "text": [
            "False\n"
          ]
        }
      ]
    },
    {
      "cell_type": "code",
      "source": [
        "s='accept'\n",
        "from collections import Counter\n",
        "ct,res,n=Counter(),0,len(s)\n",
        "print(ct)\n",
        "for i in range(n-1,-1,-1):\n",
        "\n",
        "    ct[s[i]]+=1\n",
        "\n",
        "    if s[i:i+2]==s[i]*2:\n",
        "       res+=n-i-ct[s[i]]\n",
        "       ct=Counter({s[i]:n-i})\n",
        "       print(ct)\n",
        "print(ct)\n",
        "res"
      ],
      "metadata": {
        "colab": {
          "base_uri": "https://localhost:8080/"
        },
        "id": "_Bh-W2avcfBT",
        "outputId": "16cf70c6-9143-45e4-d658-a2b3169e0a48"
      },
      "execution_count": null,
      "outputs": [
        {
          "output_type": "stream",
          "name": "stdout",
          "text": [
            "Counter()\n",
            "Counter({'c': 5})\n",
            "Counter({'c': 5, 'a': 1})\n"
          ]
        },
        {
          "output_type": "execute_result",
          "data": {
            "text/plain": [
              "3"
            ]
          },
          "metadata": {},
          "execution_count": 8
        }
      ]
    },
    {
      "cell_type": "code",
      "source": [
        "import bisect\n",
        "def get_perfect_pairs(nums):\n",
        "    data = [abs(v) for v in nums]\n",
        "    data.sort()\n",
        "    ans = 0\n",
        "    for i in range(len(data)):\n",
        "        ix = bisect.bisect_right(data, 2 * data[i])\n",
        "        ans += ix - 1 - i\n",
        "    return ans\n",
        "\n",
        "input = [2, 5, -3]\n",
        "print(\"number of perfect pairs:\", get_perfect_pairs(input), \"(2)\")\n",
        "\n",
        "input = [-9, 6, -2, -1]\n",
        "print(\"number of perfect pairs:\", get_perfect_pairs(input), \"(2)\")"
      ],
      "metadata": {
        "colab": {
          "base_uri": "https://localhost:8080/"
        },
        "id": "jMpo5ifAWmcB",
        "outputId": "f272bec8-3fba-4cc5-ed58-32455af1c931"
      },
      "execution_count": null,
      "outputs": [
        {
          "output_type": "stream",
          "name": "stdout",
          "text": [
            "number of perfect pairs: 2 (2)\n",
            "number of perfect pairs: 2 (2)\n"
          ]
        }
      ]
    },
    {
      "cell_type": "code",
      "source": [
        "def foo(value):\n",
        "    while True:\n",
        "        value=(yield value)\n",
        "bar=foo(1)\n",
        "print(next(bar))\n",
        "print(next(bar))\n",
        "print(bar.send(2))\n"
      ],
      "metadata": {
        "colab": {
          "base_uri": "https://localhost:8080/"
        },
        "id": "oxO-cPeMmS5t",
        "outputId": "4cce22e4-92fe-4b44-e698-b827e66edc70"
      },
      "execution_count": null,
      "outputs": [
        {
          "output_type": "stream",
          "name": "stdout",
          "text": [
            "1\n",
            "None\n",
            "2\n"
          ]
        }
      ]
    },
    {
      "cell_type": "code",
      "source": [
        "List = [3.1416,1.618,2.7183,0.57721]\n",
        "func = lambda x: (func (x[1:]) + x[:1] if x else [])\n",
        "print(func (List))"
      ],
      "metadata": {
        "colab": {
          "base_uri": "https://localhost:8080/"
        },
        "id": "FtRWyLxcWtls",
        "outputId": "0f7cc269-75cc-483e-db62-2f876f917762"
      },
      "execution_count": null,
      "outputs": [
        {
          "output_type": "stream",
          "name": "stdout",
          "text": [
            "[0.57721, 2.7183, 1.618, 3.1416]\n"
          ]
        }
      ]
    },
    {
      "cell_type": "code",
      "source": [
        "def fun(arr):\n",
        "    if len(arr)==0:\n",
        "        return [0,0]\n",
        "    else:\n",
        "        t=fun(arr[1:])\n",
        "        avg=(t[0]*t[1]+arr[0])/(t[0]+1)\n",
        "        return [t[0]+1,avg]\n",
        "arr=[1,3,5,6]\n",
        "ans=fun(arr)\n",
        "print(ans[1])"
      ],
      "metadata": {
        "id": "wMOIcUWwXOXb",
        "colab": {
          "base_uri": "https://localhost:8080/"
        },
        "outputId": "5abf5eb4-135a-412a-f583-0d3f7b5e1271"
      },
      "execution_count": 1,
      "outputs": [
        {
          "output_type": "stream",
          "name": "stdout",
          "text": [
            "3.75\n"
          ]
        }
      ]
    },
    {
      "cell_type": "code",
      "source": [
        "s='ani'\n",
        "t='aniket'\n",
        "print(s in t)"
      ],
      "metadata": {
        "colab": {
          "base_uri": "https://localhost:8080/"
        },
        "id": "IBAyG3-2SSbu",
        "outputId": "90de1d9a-2b2c-4a78-81cb-2275ef686cd3"
      },
      "execution_count": 2,
      "outputs": [
        {
          "output_type": "stream",
          "name": "stdout",
          "text": [
            "True\n"
          ]
        }
      ]
    },
    {
      "cell_type": "code",
      "source": [
        "def tellme(num):\n",
        "    ans=[]\n",
        "    for i in range(len(num)//2):\n",
        "        ans.append(num[i])\n",
        "        ans.append(num[len(num)-i-1])\n",
        "    if len(num)%2!=0:\n",
        "        ans.append(num[len(num)//2])\n",
        "    return ans\n",
        "num=[1,2,5,3,6]\n",
        "tellme(num)"
      ],
      "metadata": {
        "colab": {
          "base_uri": "https://localhost:8080/"
        },
        "id": "z_VqKAC6JZIU",
        "outputId": "56b7e4bd-4b8a-45d6-86a1-62049b2abdcf"
      },
      "execution_count": 2,
      "outputs": [
        {
          "output_type": "execute_result",
          "data": {
            "text/plain": [
              "[1, 6, 2, 3, 3]"
            ]
          },
          "metadata": {},
          "execution_count": 2
        }
      ]
    },
    {
      "cell_type": "code",
      "source": [
        "def solution(word,skeletons):\n",
        "    ans=[]\n",
        "    for string in skeletons:\n",
        "        d=[]\n",
        "        t=1\n",
        "        for i in string:\n",
        "            if i!='-':\n",
        "                d.append(i)\n",
        "        print(d)\n",
        "        for i in range(len(string)):\n",
        "            if (string[i]=='-') and (word[i] not in d):\n",
        "                print(word[i])\n",
        "                t=0\n",
        "        if t==1:\n",
        "            ans.append(string)\n",
        "    return ans\n",
        "\n",
        "word=\"hello\"\n",
        "skeletons=[\"he-lo\",\"he--o\",\"hello\"]\n",
        "print(solution(word,skeletons))\n",
        "\n",
        "\n",
        "\n"
      ],
      "metadata": {
        "colab": {
          "base_uri": "https://localhost:8080/"
        },
        "id": "9hfYDh_RoFaM",
        "outputId": "d5578e08-ab61-40ac-8d2b-6a537c1bc365"
      },
      "execution_count": 12,
      "outputs": [
        {
          "output_type": "stream",
          "name": "stdout",
          "text": [
            "['h', 'e', 'l', 'o']\n",
            "['h', 'e', 'o']\n",
            "l\n",
            "l\n",
            "['h', 'e', 'l', 'l', 'o']\n",
            "['he-lo', 'hello']\n"
          ]
        }
      ]
    },
    {
      "cell_type": "code",
      "source": [
        "\n",
        "def solution(logs):\n",
        "    d={}\n",
        "    ans=[]\n",
        "    for i in logs:\n",
        "        if i[0]=='supply':\n",
        "            print(d)\n",
        "            print(i[1])\n",
        "            if i[1] not in d.keys():\n",
        "                d[i[1]]=[int(i[2])-int('0'),int(i[3])-int('0')]\n",
        "            else:\n",
        "                d[i[1]][0]+=int(i[2])\n",
        "        elif i[0]=='sell':\n",
        "            print(int(i[2]))\n",
        "            print(d[i[1]][1])\n",
        "            ans.append(int(i[2])*d[i[1]][1])\n",
        "    return ans\n",
        "\n",
        "logs= [[\"supply\",\"item1\",\"2\",\"100\"],[\"supply\",\"item2\",\"3\",\"60\"],[\"sell\",\"item1\",\"1\"],[\"sell\",\"item1\",\"1\"],[\"sell\",\"item2\",\"2\"],[\"return\",\"item2\",\"1\",\"60\",\"40\"]]\n",
        "solution(logs)"
      ],
      "metadata": {
        "colab": {
          "base_uri": "https://localhost:8080/"
        },
        "id": "58IUm5_4rQU1",
        "outputId": "dec8d047-ab67-48d3-e7fc-eb948d9c4eb9"
      },
      "execution_count": 22,
      "outputs": [
        {
          "output_type": "stream",
          "name": "stdout",
          "text": [
            "{}\n",
            "item1\n",
            "{'item1': [2, 100]}\n",
            "item2\n",
            "1\n",
            "100\n",
            "1\n",
            "100\n",
            "2\n",
            "60\n"
          ]
        },
        {
          "output_type": "execute_result",
          "data": {
            "text/plain": [
              "[100, 100, 120]"
            ]
          },
          "metadata": {},
          "execution_count": 22
        }
      ]
    },
    {
      "cell_type": "code",
      "source": [],
      "metadata": {
        "id": "jvK0D2LZxA7C"
      },
      "execution_count": null,
      "outputs": []
    }
  ]
}